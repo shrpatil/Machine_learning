{
 "cells": [
  {
   "cell_type": "code",
   "execution_count": 25,
   "source": [
    "import pandas as pd\n",
    "import numpy as np\n",
    "import matplotlib.pyplot as plt\n",
    "%matplotlib inline\n",
    "\n",
    "results = pd.read_csv('evaluation-data.csv')\n",
    "results.head()"
   ],
   "outputs": [
    {
     "output_type": "execute_result",
     "data": {
      "text/html": [
       "<div>\n",
       "<style scoped>\n",
       "    .dataframe tbody tr th:only-of-type {\n",
       "        vertical-align: middle;\n",
       "    }\n",
       "\n",
       "    .dataframe tbody tr th {\n",
       "        vertical-align: top;\n",
       "    }\n",
       "\n",
       "    .dataframe thead th {\n",
       "        text-align: right;\n",
       "    }\n",
       "</style>\n",
       "<table border=\"1\" class=\"dataframe\">\n",
       "  <thead>\n",
       "    <tr style=\"text-align: right;\">\n",
       "      <th></th>\n",
       "      <th>actual</th>\n",
       "      <th>prob</th>\n",
       "    </tr>\n",
       "  </thead>\n",
       "  <tbody>\n",
       "    <tr>\n",
       "      <th>0</th>\n",
       "      <td>1.0</td>\n",
       "      <td>0.650790</td>\n",
       "    </tr>\n",
       "    <tr>\n",
       "      <th>1</th>\n",
       "      <td>1.0</td>\n",
       "      <td>0.772166</td>\n",
       "    </tr>\n",
       "    <tr>\n",
       "      <th>2</th>\n",
       "      <td>1.0</td>\n",
       "      <td>0.647421</td>\n",
       "    </tr>\n",
       "    <tr>\n",
       "      <th>3</th>\n",
       "      <td>1.0</td>\n",
       "      <td>0.612818</td>\n",
       "    </tr>\n",
       "    <tr>\n",
       "      <th>4</th>\n",
       "      <td>1.0</td>\n",
       "      <td>0.596953</td>\n",
       "    </tr>\n",
       "  </tbody>\n",
       "</table>\n",
       "</div>"
      ],
      "text/plain": [
       "   actual      prob\n",
       "0     1.0  0.650790\n",
       "1     1.0  0.772166\n",
       "2     1.0  0.647421\n",
       "3     1.0  0.612818\n",
       "4     1.0  0.596953"
      ]
     },
     "metadata": {},
     "execution_count": 25
    }
   ],
   "metadata": {}
  },
  {
   "cell_type": "code",
   "execution_count": 32,
   "source": [
    "results.shape"
   ],
   "outputs": [
    {
     "output_type": "execute_result",
     "data": {
      "text/plain": [
       "(5000, 3)"
      ]
     },
     "metadata": {},
     "execution_count": 32
    }
   ],
   "metadata": {}
  },
  {
   "cell_type": "markdown",
   "source": [
    "## Data Definitions\n",
    "- `actual`: Whether the event was true or not. A value of 1.0 is True and 0.0 is False.  \n",
    "- `prob`: The probability that the event was True. This is estimated from a classification model."
   ],
   "metadata": {}
  },
  {
   "cell_type": "markdown",
   "source": [
    "# Question 1\n",
    "- Determine the distribution of the actual event.\n",
    "- Would you be concern about bias due to imbalance?"
   ],
   "metadata": {}
  },
  {
   "cell_type": "code",
   "execution_count": 80,
   "source": [
    "# insert code here\n",
    "plt.hist(results['actual'])\n",
    "plt.title('Distribution of actual event',fontsize=20)\n",
    "plt.xlabel('actual',fontsize=16)\n",
    "plt.ylabel('frequency',fontsize=16)\n",
    "plt.show()"
   ],
   "outputs": [
    {
     "output_type": "display_data",
     "data": {
      "image/png": "[encoded data removed]",
      "text/plain": [
       "<Figure size 432x288 with 1 Axes>"
      ]
     },
     "metadata": {
      "needs_background": "light"
     }
    }
   ],
   "metadata": {}
  },
  {
   "cell_type": "markdown",
   "source": [
    "Since the class is imbalanced with a higher number of true values there is a chance of bias due to it. Because the model has 1000 less data points to learn the patterns present in the minority class as compared to the majority class.\n",
    "\n",
    "modest amount of imbalance , but likely not enought to cause any issues. Accuracy will be slightly biased so another measure may be useful."
   ],
   "metadata": {}
  },
  {
   "cell_type": "markdown",
   "source": [
    "# Question 2\n",
    "- Create a histogram that shows the distribution of the probabilities for the True and False classes.  \n",
    "- Describe what you observe."
   ],
   "metadata": {}
  },
  {
   "cell_type": "code",
   "execution_count": 82,
   "source": [
    "# insert code here\n",
    "plt.figure(figsize=(8,5))\n",
    "plt.hist(results['prob'], bins=100)\n",
    "plt.title('Distribution of probabilities',fontsize=20)\n",
    "plt.xlabel('probability',fontsize=16)\n",
    "plt.ylabel('frequency',fontsize=16)\n",
    "plt.show()"
   ],
   "outputs": [
    {
     "output_type": "display_data",
     "data": {
      "image/png": "[encoded data removed]",
      "text/plain": [
       "<Figure size 576x360 with 1 Axes>"
      ]
     },
     "metadata": {
      "needs_background": "light"
     }
    }
   ],
   "metadata": {}
  },
  {
   "cell_type": "markdown",
   "source": [
    "In the distribution we can see the frequency of the values between 0.8 to 1 range is little higher than the other probability range."
   ],
   "metadata": {}
  },
  {
   "cell_type": "markdown",
   "source": [
    "# Question 3\n",
    "- Create a simple confusion matrix. Use `0.5` as the threshold for whether an observation should be considered True or False.  \n",
    "- Comment on what you observe."
   ],
   "metadata": {}
  },
  {
   "cell_type": "code",
   "execution_count": 28,
   "source": [
    "results['Converted_prob']= results.prob.apply(lambda x: 1 if x > 0.5 else 0) \n",
    "results.head()"
   ],
   "outputs": [
    {
     "output_type": "execute_result",
     "data": {
      "text/html": [
       "<div>\n",
       "<style scoped>\n",
       "    .dataframe tbody tr th:only-of-type {\n",
       "        vertical-align: middle;\n",
       "    }\n",
       "\n",
       "    .dataframe tbody tr th {\n",
       "        vertical-align: top;\n",
       "    }\n",
       "\n",
       "    .dataframe thead th {\n",
       "        text-align: right;\n",
       "    }\n",
       "</style>\n",
       "<table border=\"1\" class=\"dataframe\">\n",
       "  <thead>\n",
       "    <tr style=\"text-align: right;\">\n",
       "      <th></th>\n",
       "      <th>actual</th>\n",
       "      <th>prob</th>\n",
       "      <th>Converted_prob</th>\n",
       "    </tr>\n",
       "  </thead>\n",
       "  <tbody>\n",
       "    <tr>\n",
       "      <th>0</th>\n",
       "      <td>1.0</td>\n",
       "      <td>0.650790</td>\n",
       "      <td>1</td>\n",
       "    </tr>\n",
       "    <tr>\n",
       "      <th>1</th>\n",
       "      <td>1.0</td>\n",
       "      <td>0.772166</td>\n",
       "      <td>1</td>\n",
       "    </tr>\n",
       "    <tr>\n",
       "      <th>2</th>\n",
       "      <td>1.0</td>\n",
       "      <td>0.647421</td>\n",
       "      <td>1</td>\n",
       "    </tr>\n",
       "    <tr>\n",
       "      <th>3</th>\n",
       "      <td>1.0</td>\n",
       "      <td>0.612818</td>\n",
       "      <td>1</td>\n",
       "    </tr>\n",
       "    <tr>\n",
       "      <th>4</th>\n",
       "      <td>1.0</td>\n",
       "      <td>0.596953</td>\n",
       "      <td>1</td>\n",
       "    </tr>\n",
       "  </tbody>\n",
       "</table>\n",
       "</div>"
      ],
      "text/plain": [
       "   actual      prob  Converted_prob\n",
       "0     1.0  0.650790               1\n",
       "1     1.0  0.772166               1\n",
       "2     1.0  0.647421               1\n",
       "3     1.0  0.612818               1\n",
       "4     1.0  0.596953               1"
      ]
     },
     "metadata": {},
     "execution_count": 28
    }
   ],
   "metadata": {}
  },
  {
   "cell_type": "code",
   "execution_count": 83,
   "source": [
    "# insert code here\n",
    "true_positive=0\n",
    "false_positive=0\n",
    "true_negative=0\n",
    "false_negative=0\n",
    "\n",
    "\n",
    "for index, row in results.iterrows():\n",
    "    if row['actual']==1:\n",
    "       \n",
    "        if row['actual']==row['Converted_prob']:\n",
    "            true_positive+=1\n",
    "        else:\n",
    "            false_positive+=1\n",
    "    if row['actual']==0:\n",
    "        \n",
    "        if row['actual']==row['Converted_prob']:\n",
    "            true_negative+=1\n",
    "        else:\n",
    "            false_negative+=1\n",
    "confusion_matrix=np.array([[true_positive,false_positive],[false_negative,true_negative]])\n",
    "\n",
    "print(confusion_matrix)"
   ],
   "outputs": [
    {
     "output_type": "stream",
     "name": "stdout",
     "text": [
      "[[2623  377]\n",
      " [ 210 1790]]\n"
     ]
    }
   ],
   "metadata": {
    "scrolled": true
   }
  },
  {
   "cell_type": "markdown",
   "source": [
    "In the confusion matrix true_positive and true_negative values are higher than false_positive and flase_negative which means the model's performance is good."
   ],
   "metadata": {}
  },
  {
   "cell_type": "markdown",
   "source": [
    "# Question 4\n",
    "- Calculate the accuracy, precision, and recall `without` using any pre-built functions.\n",
    "- Which measure would you use if this was your model?"
   ],
   "metadata": {}
  },
  {
   "cell_type": "code",
   "execution_count": 55,
   "source": [
    "# insert code here\n",
    "accuracy= (true_positive+true_negative) /(true_positive+false_positive+false_negative+true_negative)\n",
    "print(accuracy)"
   ],
   "outputs": [
    {
     "output_type": "stream",
     "name": "stdout",
     "text": [
      "0.8826\n"
     ]
    }
   ],
   "metadata": {}
  },
  {
   "cell_type": "code",
   "execution_count": 56,
   "source": [
    "precision = true_positive / (true_positive + false_positive)\n",
    "print(precision)"
   ],
   "outputs": [
    {
     "output_type": "stream",
     "name": "stdout",
     "text": [
      "0.8743333333333333\n"
     ]
    }
   ],
   "metadata": {}
  },
  {
   "cell_type": "code",
   "execution_count": 58,
   "source": [
    "recall = true_positive / (true_positive + false_negative)\n",
    "print(recall)"
   ],
   "outputs": [
    {
     "output_type": "stream",
     "name": "stdout",
     "text": [
      "0.9258736321920226\n"
     ]
    }
   ],
   "metadata": {}
  },
  {
   "cell_type": "markdown",
   "source": [
    "I would use accuracy as the measure for my model because it is a single measure which summarizes the model. Where precision and recall is appropriate when we want to minimize false positives and minimize false negatives respectively.\n",
    "\n",
    "used recall for slight imbalance"
   ],
   "metadata": {}
  },
  {
   "cell_type": "markdown",
   "source": [
    "# Question 5\n",
    "- Construct a ROC curve plot.  \n",
    "- Comment on the fit of the model based on this chart."
   ],
   "metadata": {}
  },
  {
   "cell_type": "code",
   "execution_count": 88,
   "source": [
    "# Insert code here\n",
    "def true_false_rate(new_vector, y_test):\n",
    "    \n",
    "    true_positive = (np.equal(new_vector, 1) & np.equal(y_test, 1)).sum()\n",
    "    true_negative = (np.equal(new_vector, 0) & np.equal(y_test, 0)).sum()\n",
    "    false_positive = (np.equal(new_vector, 1) & np.equal(y_test, 0)).sum()\n",
    "    false_negative = (np.equal(new_vector, 0) & np.equal(y_test, 1)).sum()\n",
    "    \n",
    "    true_positive_rate = true_positive / (true_positive + false_negative)\n",
    "    false_positive_rate = false_positive / (false_positive + true_negative)\n",
    "    \n",
    "    return true_positive_rate, false_positive_rate"
   ],
   "outputs": [],
   "metadata": {}
  },
  {
   "cell_type": "code",
   "execution_count": 69,
   "source": [
    "threshold = [item/100 for item in range(0, 100)]\n",
    "print(len(threshold))"
   ],
   "outputs": [
    {
     "output_type": "stream",
     "name": "stdout",
     "text": [
      "100\n"
     ]
    }
   ],
   "metadata": {}
  },
  {
   "cell_type": "code",
   "execution_count": 104,
   "source": [
    "\n",
    "def roc_function(probabilities, y_test):\n",
    "    roc = np.array([])\n",
    "    for i in threshold:\n",
    "        \n",
    "        new_vector = np.greater_equal(probabilities,i).astype(int)\n",
    "        tpr, fpr = true_false_rate(new_vector, y_test)\n",
    "        roc = np.append(roc, [fpr, tpr])\n",
    "        \n",
    "    return roc.reshape(-1, 2)"
   ],
   "outputs": [],
   "metadata": {}
  },
  {
   "cell_type": "code",
   "execution_count": 105,
   "source": [
    "#plt.figure(figsize=(15,7))\n",
    "\n",
    "ROC_1 = roc_function(results['prob'],results['actual'])\n",
    "ROC_2 = roc_function(results['prob'],results['Converted_prob'])\n",
    "\n",
    "plt.plot(ROC_1[:,0],ROC_1[:,1], color = 'r')\n",
    "plt.plot(ROC_2[:,0],ROC_2[:,1], color= 'b')\n",
    "plt.plot([0, 1], [0, 1], linestyle='--')\n",
    "\n",
    "plt.title('ROC Curve',fontsize=20)\n",
    "plt.xlabel('False Positive Rate',fontsize=16)\n",
    "plt.ylabel('True Positive Rate',fontsize=16)\n",
    "plt.show()"
   ],
   "outputs": [
    {
     "output_type": "display_data",
     "data": {
      "image/png": "[encoded data removed]",
      "text/plain": [
       "<Figure size 432x288 with 1 Axes>"
      ]
     },
     "metadata": {
      "needs_background": "light"
     }
    }
   ],
   "metadata": {}
  },
  {
   "cell_type": "markdown",
   "source": [
    "The Receiver Operator Characteristic (ROC) curve shows the diagnostic ability of the classifier. Our model's values are represented by a red line which is closer to the top left corner of the graph and away from the random classifier's diagonal line. Which indicates the model's performance is good. "
   ],
   "metadata": {}
  },
  {
   "cell_type": "markdown",
   "source": [
    "Ref:\n",
    "https://machinelearningmastery.com/precision-recall-and-f-measure-for-imbalanced-classification/\n",
    "https://towardsdatascience.com/what-metrics-should-we-use-on-imbalanced-data-set-precision-recall-roc-e2e79252aeba"
   ],
   "metadata": {}
  },
  {
   "cell_type": "code",
   "execution_count": null,
   "source": [],
   "outputs": [],
   "metadata": {}
  }
 ],
 "metadata": {
  "kernelspec": {
   "display_name": "Python 3 (ipykernel)",
   "language": "python",
   "name": "python3"
  },
  "language_info": {
   "codemirror_mode": {
    "name": "ipython",
    "version": 3
   },
   "file_extension": ".py",
   "mimetype": "text/x-python",
   "name": "python",
   "nbconvert_exporter": "python",
   "pygments_lexer": "ipython3",
   "version": "3.8.10"
  }
 },
 "nbformat": 4,
 "nbformat_minor": 4
}