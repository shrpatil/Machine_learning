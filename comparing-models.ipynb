{
 "cells": [
  {
   "cell_type": "code",
   "execution_count": 1,
   "source": [
    "import pandas as pd\n",
    "import numpy as np\n",
    "import matplotlib.pyplot as plt\n",
    "%matplotlib inline\n",
    "\n",
    "df = pd.read_csv('employee-turnover-balanced.csv')\n",
    "df.head()"
   ],
   "outputs": [
    {
     "output_type": "execute_result",
     "data": {
      "text/html": [
       "<div>\n",
       "<style scoped>\n",
       "    .dataframe tbody tr th:only-of-type {\n",
       "        vertical-align: middle;\n",
       "    }\n",
       "\n",
       "    .dataframe tbody tr th {\n",
       "        vertical-align: top;\n",
       "    }\n",
       "\n",
       "    .dataframe thead th {\n",
       "        text-align: right;\n",
       "    }\n",
       "</style>\n",
       "<table border=\"1\" class=\"dataframe\">\n",
       "  <thead>\n",
       "    <tr style=\"text-align: right;\">\n",
       "      <th></th>\n",
       "      <th>left_company</th>\n",
       "      <th>age</th>\n",
       "      <th>frequency_of_travel</th>\n",
       "      <th>department</th>\n",
       "      <th>commuting_distance</th>\n",
       "      <th>education</th>\n",
       "      <th>satisfaction_with_environment</th>\n",
       "      <th>gender</th>\n",
       "      <th>seniority_level</th>\n",
       "      <th>position</th>\n",
       "      <th>satisfaction_with_job</th>\n",
       "      <th>married_or_single</th>\n",
       "      <th>last_raise_pct</th>\n",
       "      <th>last_performance_rating</th>\n",
       "      <th>total_years_working</th>\n",
       "      <th>years_at_company</th>\n",
       "      <th>years_in_current_job</th>\n",
       "      <th>years_since_last_promotion</th>\n",
       "      <th>years_with_current_supervisor</th>\n",
       "    </tr>\n",
       "  </thead>\n",
       "  <tbody>\n",
       "    <tr>\n",
       "      <th>0</th>\n",
       "      <td>No</td>\n",
       "      <td>37</td>\n",
       "      <td>Travel_Rarely</td>\n",
       "      <td>Sales</td>\n",
       "      <td>16</td>\n",
       "      <td>4</td>\n",
       "      <td>4</td>\n",
       "      <td>Male</td>\n",
       "      <td>2</td>\n",
       "      <td>Sales Executive</td>\n",
       "      <td>3</td>\n",
       "      <td>Divorced</td>\n",
       "      <td>19</td>\n",
       "      <td>3</td>\n",
       "      <td>9</td>\n",
       "      <td>1</td>\n",
       "      <td>0</td>\n",
       "      <td>0</td>\n",
       "      <td>0</td>\n",
       "    </tr>\n",
       "    <tr>\n",
       "      <th>1</th>\n",
       "      <td>No</td>\n",
       "      <td>39</td>\n",
       "      <td>Travel_Rarely</td>\n",
       "      <td>Research &amp; Development</td>\n",
       "      <td>3</td>\n",
       "      <td>2</td>\n",
       "      <td>3</td>\n",
       "      <td>Male</td>\n",
       "      <td>2</td>\n",
       "      <td>Laboratory Technician</td>\n",
       "      <td>3</td>\n",
       "      <td>Divorced</td>\n",
       "      <td>15</td>\n",
       "      <td>3</td>\n",
       "      <td>11</td>\n",
       "      <td>10</td>\n",
       "      <td>8</td>\n",
       "      <td>0</td>\n",
       "      <td>7</td>\n",
       "    </tr>\n",
       "    <tr>\n",
       "      <th>2</th>\n",
       "      <td>No</td>\n",
       "      <td>52</td>\n",
       "      <td>Travel_Frequently</td>\n",
       "      <td>Research &amp; Development</td>\n",
       "      <td>25</td>\n",
       "      <td>4</td>\n",
       "      <td>3</td>\n",
       "      <td>Female</td>\n",
       "      <td>4</td>\n",
       "      <td>Manufacturing Director</td>\n",
       "      <td>4</td>\n",
       "      <td>Married</td>\n",
       "      <td>22</td>\n",
       "      <td>4</td>\n",
       "      <td>31</td>\n",
       "      <td>9</td>\n",
       "      <td>8</td>\n",
       "      <td>0</td>\n",
       "      <td>0</td>\n",
       "    </tr>\n",
       "    <tr>\n",
       "      <th>3</th>\n",
       "      <td>No</td>\n",
       "      <td>50</td>\n",
       "      <td>Non-Travel</td>\n",
       "      <td>Sales</td>\n",
       "      <td>1</td>\n",
       "      <td>3</td>\n",
       "      <td>4</td>\n",
       "      <td>Female</td>\n",
       "      <td>2</td>\n",
       "      <td>Sales Executive</td>\n",
       "      <td>3</td>\n",
       "      <td>Married</td>\n",
       "      <td>12</td>\n",
       "      <td>3</td>\n",
       "      <td>19</td>\n",
       "      <td>18</td>\n",
       "      <td>7</td>\n",
       "      <td>0</td>\n",
       "      <td>13</td>\n",
       "    </tr>\n",
       "    <tr>\n",
       "      <th>4</th>\n",
       "      <td>No</td>\n",
       "      <td>44</td>\n",
       "      <td>Travel_Rarely</td>\n",
       "      <td>Research &amp; Development</td>\n",
       "      <td>4</td>\n",
       "      <td>3</td>\n",
       "      <td>4</td>\n",
       "      <td>Male</td>\n",
       "      <td>2</td>\n",
       "      <td>Healthcare Representative</td>\n",
       "      <td>2</td>\n",
       "      <td>Single</td>\n",
       "      <td>12</td>\n",
       "      <td>3</td>\n",
       "      <td>10</td>\n",
       "      <td>5</td>\n",
       "      <td>2</td>\n",
       "      <td>2</td>\n",
       "      <td>3</td>\n",
       "    </tr>\n",
       "  </tbody>\n",
       "</table>\n",
       "</div>"
      ],
      "text/plain": [
       "  left_company  age frequency_of_travel              department  \\\n",
       "0           No   37       Travel_Rarely                   Sales   \n",
       "1           No   39       Travel_Rarely  Research & Development   \n",
       "2           No   52   Travel_Frequently  Research & Development   \n",
       "3           No   50          Non-Travel                   Sales   \n",
       "4           No   44       Travel_Rarely  Research & Development   \n",
       "\n",
       "   commuting_distance  education  satisfaction_with_environment  gender  \\\n",
       "0                  16          4                              4    Male   \n",
       "1                   3          2                              3    Male   \n",
       "2                  25          4                              3  Female   \n",
       "3                   1          3                              4  Female   \n",
       "4                   4          3                              4    Male   \n",
       "\n",
       "   seniority_level                   position  satisfaction_with_job  \\\n",
       "0                2            Sales Executive                      3   \n",
       "1                2      Laboratory Technician                      3   \n",
       "2                4     Manufacturing Director                      4   \n",
       "3                2            Sales Executive                      3   \n",
       "4                2  Healthcare Representative                      2   \n",
       "\n",
       "  married_or_single  last_raise_pct  last_performance_rating  \\\n",
       "0          Divorced              19                        3   \n",
       "1          Divorced              15                        3   \n",
       "2           Married              22                        4   \n",
       "3           Married              12                        3   \n",
       "4            Single              12                        3   \n",
       "\n",
       "   total_years_working  years_at_company  years_in_current_job  \\\n",
       "0                    9                 1                     0   \n",
       "1                   11                10                     8   \n",
       "2                   31                 9                     8   \n",
       "3                   19                18                     7   \n",
       "4                   10                 5                     2   \n",
       "\n",
       "   years_since_last_promotion  years_with_current_supervisor  \n",
       "0                           0                              0  \n",
       "1                           0                              7  \n",
       "2                           0                              0  \n",
       "3                           0                             13  \n",
       "4                           2                              3  "
      ]
     },
     "metadata": {},
     "execution_count": 1
    }
   ],
   "metadata": {}
  },
  {
   "cell_type": "code",
   "execution_count": 2,
   "source": [
    "df.info()"
   ],
   "outputs": [
    {
     "output_type": "stream",
     "name": "stdout",
     "text": [
      "<class 'pandas.core.frame.DataFrame'>\n",
      "RangeIndex: 1000 entries, 0 to 999\n",
      "Data columns (total 19 columns):\n",
      " #   Column                         Non-Null Count  Dtype \n",
      "---  ------                         --------------  ----- \n",
      " 0   left_company                   1000 non-null   object\n",
      " 1   age                            1000 non-null   int64 \n",
      " 2   frequency_of_travel            1000 non-null   object\n",
      " 3   department                     1000 non-null   object\n",
      " 4   commuting_distance             1000 non-null   int64 \n",
      " 5   education                      1000 non-null   int64 \n",
      " 6   satisfaction_with_environment  1000 non-null   int64 \n",
      " 7   gender                         1000 non-null   object\n",
      " 8   seniority_level                1000 non-null   int64 \n",
      " 9   position                       1000 non-null   object\n",
      " 10  satisfaction_with_job          1000 non-null   int64 \n",
      " 11  married_or_single              1000 non-null   object\n",
      " 12  last_raise_pct                 1000 non-null   int64 \n",
      " 13  last_performance_rating        1000 non-null   int64 \n",
      " 14  total_years_working            1000 non-null   int64 \n",
      " 15  years_at_company               1000 non-null   int64 \n",
      " 16  years_in_current_job           1000 non-null   int64 \n",
      " 17  years_since_last_promotion     1000 non-null   int64 \n",
      " 18  years_with_current_supervisor  1000 non-null   int64 \n",
      "dtypes: int64(13), object(6)\n",
      "memory usage: 148.6+ KB\n"
     ]
    }
   ],
   "metadata": {}
  },
  {
   "cell_type": "code",
   "execution_count": 3,
   "source": [
    "df['left_company'].value_counts().plot.barh()"
   ],
   "outputs": [
    {
     "output_type": "execute_result",
     "data": {
      "text/plain": [
       "<AxesSubplot:>"
      ]
     },
     "metadata": {},
     "execution_count": 3
    },
    {
     "output_type": "display_data",
     "data": {
      "image/png": "[encoded data removed]",
      "text/plain": [
       "<Figure size 432x288 with 1 Axes>"
      ]
     },
     "metadata": {
      "needs_background": "light"
     }
    }
   ],
   "metadata": {}
  },
  {
   "cell_type": "markdown",
   "source": [
    "#### Splitting into training and test sets"
   ],
   "metadata": {}
  },
  {
   "cell_type": "code",
   "execution_count": 4,
   "source": [
    "df['left_company']=df.left_company .replace({'No': 0, 'Yes': 1})"
   ],
   "outputs": [],
   "metadata": {}
  },
  {
   "cell_type": "code",
   "execution_count": 5,
   "source": [
    "from sklearn.model_selection import train_test_split\n",
    "targetCol = 'left_company'\n",
    "featureCols = [x for x in df.columns if x != targetCol]\n",
    "\n",
    "y = df[targetCol]\n",
    "X = df[featureCols]\n",
    "\n",
    "x_train, x_test, y_train, y_test = train_test_split(X, y, test_size=0.2, random_state = 123)\n",
    "\n",
    "print(f'Target: {targetCol}')\n",
    "print('Features:')\n",
    "print(*featureCols, sep=',\\t')\n",
    "print('\\n')\n",
    "print(f'Training examples: {x_train.shape[0]:,}')\n",
    "print(f'Test examples: {x_test.shape[0]:,}')"
   ],
   "outputs": [
    {
     "output_type": "stream",
     "name": "stdout",
     "text": [
      "Target: left_company\n",
      "Features:\n",
      "age,\tfrequency_of_travel,\tdepartment,\tcommuting_distance,\teducation,\tsatisfaction_with_environment,\tgender,\tseniority_level,\tposition,\tsatisfaction_with_job,\tmarried_or_single,\tlast_raise_pct,\tlast_performance_rating,\ttotal_years_working,\tyears_at_company,\tyears_in_current_job,\tyears_since_last_promotion,\tyears_with_current_supervisor\n",
      "\n",
      "\n",
      "Training examples: 800\n",
      "Test examples: 200\n"
     ]
    }
   ],
   "metadata": {}
  },
  {
   "cell_type": "markdown",
   "source": [
    "# Question 1\n",
    "- Set-up a feature processing pipeline using the training data.  \n",
    "- While the data doesn't contain missing values, assume the test data could.  \n",
    "- Use the below lists to split the features that should be treated as numerical and categorical variables.  \n",
    "- I would recommend printing out verification output to verify the pipeline transforms the data as expected."
   ],
   "metadata": {}
  },
  {
   "cell_type": "code",
   "execution_count": 6,
   "source": [
    "numericalFeatures = ['age', 'commuting_distance', 'last_raise_pct', 'total_years_working', 'years_at_company',\n",
    "                    'years_in_current_job', 'years_since_last_promotion', 'years_with_current_supervisor']\n",
    "\n",
    "categoricalFeatures = ['frequency_of_travel', 'department', 'education', 'satisfaction_with_environment',\n",
    "                       'gender', 'seniority_level', 'position', 'satisfaction_with_job', 'married_or_single',\n",
    "                      'last_performance_rating']\n"
   ],
   "outputs": [],
   "metadata": {}
  },
  {
   "cell_type": "code",
   "execution_count": 7,
   "source": [
    "# insert code here\n",
    "from sklearn.pipeline import Pipeline\n",
    "from sklearn.compose import ColumnTransformer\n",
    "from sklearn.impute import SimpleImputer\n",
    "from sklearn.preprocessing import OneHotEncoder\n",
    "from sklearn.preprocessing import StandardScaler"
   ],
   "outputs": [],
   "metadata": {}
  },
  {
   "cell_type": "code",
   "execution_count": 8,
   "source": [
    "num_pip = Pipeline([('impute_missing', SimpleImputer(strategy='median')),\n",
    "                           ('stand_num', StandardScaler())\n",
    "                        ])\n",
    "\n",
    "cat_pip = Pipeline([('impute_missing_cats', SimpleImputer(strategy='most_frequent')),\n",
    "                          ('cat_dummies', OneHotEncoder(handle_unknown='ignore', drop='first'))])\n",
    "\n",
    "processing_pip = ColumnTransformer(transformers=[('num', num_pip, numericalFeatures),\n",
    "                                                      ('cat', cat_pip, categoricalFeatures)])\n",
    "\n"
   ],
   "outputs": [],
   "metadata": {}
  },
  {
   "cell_type": "markdown",
   "source": [
    "# Question 2\n",
    "- Using cross-validation evaluate a logistic regression model, evaluate three (4) different regularization strengths with `l2`, with one model containing no regularization.  \n",
    "- Which regularization strength would be ideal for logistic regression?\n",
    "- Use as much code as you need to defend your opinion.  \n",
    "- Comment on your rationale for your choice."
   ],
   "metadata": {}
  },
  {
   "cell_type": "code",
   "execution_count": 9,
   "source": [
    "# insert code here\n",
    "\n",
    "from sklearn.linear_model import LogisticRegression\n",
    "from collections import defaultdict\n",
    "from sklearn.metrics import precision_recall_fscore_support\n",
    "from sklearn.metrics import roc_auc_score\n",
    "#logistic regression without regularization\n",
    "\n",
    "modeling_pipeline = Pipeline([\n",
    "        ('data_processing', processing_pip),\n",
    "        ('model', LogisticRegression())]\n",
    "    )\n",
    "modeling_pipeline"
   ],
   "outputs": [
    {
     "output_type": "execute_result",
     "data": {
      "text/plain": [
       "Pipeline(steps=[('data_processing',\n",
       "                 ColumnTransformer(transformers=[('num',\n",
       "                                                  Pipeline(steps=[('impute_missing',\n",
       "                                                                   SimpleImputer(strategy='median')),\n",
       "                                                                  ('stand_num',\n",
       "                                                                   StandardScaler())]),\n",
       "                                                  ['age', 'commuting_distance',\n",
       "                                                   'last_raise_pct',\n",
       "                                                   'total_years_working',\n",
       "                                                   'years_at_company',\n",
       "                                                   'years_in_current_job',\n",
       "                                                   'years_since_last_promotion',\n",
       "                                                   'years_with_current_supervisor']),\n",
       "                                                 ('c...\n",
       "                                                  Pipeline(steps=[('impute_missing_cats',\n",
       "                                                                   SimpleImputer(strategy='most_frequent')),\n",
       "                                                                  ('cat_dummies',\n",
       "                                                                   OneHotEncoder(drop='first',\n",
       "                                                                                 handle_unknown='ignore'))]),\n",
       "                                                  ['frequency_of_travel',\n",
       "                                                   'department', 'education',\n",
       "                                                   'satisfaction_with_environment',\n",
       "                                                   'gender', 'seniority_level',\n",
       "                                                   'position',\n",
       "                                                   'satisfaction_with_job',\n",
       "                                                   'married_or_single',\n",
       "                                                   'last_performance_rating'])])),\n",
       "                ('model', LogisticRegression())])"
      ]
     },
     "metadata": {},
     "execution_count": 9
    }
   ],
   "metadata": {}
  },
  {
   "cell_type": "code",
   "execution_count": 10,
   "source": [
    "# ignoring the warnings \n",
    "import warnings\n",
    "warnings.filterwarnings(\"ignore\")"
   ],
   "outputs": [],
   "metadata": {}
  },
  {
   "cell_type": "code",
   "execution_count": 11,
   "source": [
    "# evaluating logistic regression without regularization using cross validation\n",
    "from sklearn.model_selection import cross_validate\n",
    "\n",
    "cv_results = cross_validate(modeling_pipeline, x_train, y_train, \n",
    "                            scoring=['accuracy', 'recall', 'precision', 'f1_macro', 'roc_auc'], cv=5)\n",
    "cv_results"
   ],
   "outputs": [
    {
     "output_type": "execute_result",
     "data": {
      "text/plain": [
       "{'fit_time': array([0.04963207, 0.07454109, 0.04273272, 0.03292513, 0.03168321]),\n",
       " 'score_time': array([0.00984907, 0.00797176, 0.00783205, 0.00830078, 0.00776911]),\n",
       " 'test_accuracy': array([0.74375, 0.70625, 0.71875, 0.6875 , 0.68125]),\n",
       " 'test_recall': array([0.72839506, 0.7125    , 0.725     , 0.775     , 0.65      ]),\n",
       " 'test_precision': array([0.75641026, 0.7037037 , 0.71604938, 0.65957447, 0.69333333]),\n",
       " 'test_f1_macro': array([0.74373999, 0.70623852, 0.71873901, 0.68508896, 0.68093842]),\n",
       " 'test_roc_auc': array([0.83513049, 0.79515625, 0.7915625 , 0.7490625 , 0.749375  ])}"
      ]
     },
     "metadata": {},
     "execution_count": 11
    }
   ],
   "metadata": {
    "scrolled": true
   }
  },
  {
   "cell_type": "markdown",
   "source": [
    "This results shows without regularization, models performace is fair with max accuracy of 0.74"
   ],
   "metadata": {}
  },
  {
   "cell_type": "code",
   "execution_count": 12,
   "source": [
    "#logistic regression without l2 regularization\n",
    "\n",
    "def generate_estimates(c):\n",
    "\n",
    "    num_pip = Pipeline([('impute_missing', SimpleImputer(strategy='median')),\n",
    "                           ('stand_num', StandardScaler())\n",
    "                        ])\n",
    "\n",
    "    cat_pip = Pipeline([('impute_missing_cats', SimpleImputer(strategy='most_frequent')),\n",
    "                          ('cat_dummies', OneHotEncoder(handle_unknown='ignore', drop='first'))])\n",
    "    \n",
    "    processing_pip =ColumnTransformer(transformers=[('num', num_pip, numericalFeatures),\n",
    "                                                      ('cat', cat_pip, categoricalFeatures)])\n",
    "    \n",
    "    modeling_pipeline = Pipeline([('data_processing', processing_pip),\n",
    "        ('logreg', LogisticRegression(penalty='l2', C=c))]\n",
    "    )\n",
    "\n",
    "    return modeling_pipeline.fit(x_train, y_train)\n",
    "\n",
    "lr_data = defaultdict(dict)\n",
    "\n",
    "cvals = [ 0.001, 0.1, 10.0]\n",
    "for cv in cvals:\n",
    "    m = generate_estimates(c=cv)\n",
    "    \n",
    "    cv_results = cross_validate(m, x_train, y_train, \n",
    "                            scoring=['accuracy', 'recall', 'precision', 'f1_macro', 'roc_auc'], cv=5)\n",
    "    print(cv_results)\n",
    "    print('.........................................................')\n"
   ],
   "outputs": [
    {
     "output_type": "stream",
     "name": "stdout",
     "text": [
      "{'fit_time': array([0.01206899, 0.01117682, 0.01108813, 0.01253986, 0.01234603]), 'score_time': array([0.00862908, 0.0081501 , 0.00754476, 0.00780487, 0.00763011]), 'test_accuracy': array([0.69375, 0.6    , 0.60625, 0.61875, 0.55625]), 'test_recall': array([0.69135802, 0.7125    , 0.675     , 0.6875    , 0.6       ]), 'test_precision': array([0.7       , 0.58163265, 0.59340659, 0.6043956 , 0.55172414]), 'test_f1_macro': array([0.69373804, 0.59487261, 0.60438008, 0.61693944, 0.55539901]), 'test_roc_auc': array([0.75683701, 0.71078125, 0.70875   , 0.66671875, 0.60890625])}\n",
      ".........................................................\n",
      "{'fit_time': array([0.01726103, 0.01851583, 0.02006817, 0.02016807, 0.01918888]), 'score_time': array([0.00750494, 0.00746918, 0.00786781, 0.0073719 , 0.00806618]), 'test_accuracy': array([0.75625, 0.7375 , 0.7375 , 0.69375, 0.6625 ]), 'test_recall': array([0.77777778, 0.7625    , 0.75      , 0.775     , 0.625     ]), 'test_precision': array([0.75      , 0.72619048, 0.73170732, 0.66666667, 0.67567568]), 'test_f1_macro': array([0.75601173, 0.73733583, 0.73745898, 0.69171484, 0.66202472]), 'test_roc_auc': array([0.82106579, 0.796875  , 0.78625   , 0.75046875, 0.7240625 ])}\n",
      ".........................................................\n",
      "{'fit_time': array([0.04800725, 0.05311203, 0.09039092, 0.10176706, 0.15102625]), 'score_time': array([0.00891185, 0.00789714, 0.00838304, 0.00862789, 0.00858402]), 'test_accuracy': array([0.7375 , 0.7    , 0.7125 , 0.69375, 0.6875 ]), 'test_recall': array([0.74074074, 0.7125    , 0.7       , 0.7625    , 0.6375    ]), 'test_precision': array([0.74074074, 0.69512195, 0.71794872, 0.67032967, 0.70833333]), 'test_f1_macro': array([0.73745898, 0.69995312, 0.71245507, 0.69229562, 0.68671679]), 'test_roc_auc': array([0.82887951, 0.788125  , 0.78921875, 0.74734375, 0.7565625 ])}\n",
      ".........................................................\n"
     ]
    }
   ],
   "metadata": {}
  },
  {
   "cell_type": "markdown",
   "source": [
    "From the given c values models performance looks better at 0.1 value. To analyze more clearly lets plot validation curve so that we can plot the range of accuracies we observe for many folds."
   ],
   "metadata": {}
  },
  {
   "cell_type": "code",
   "execution_count": 13,
   "source": [
    "from sklearn.model_selection import validation_curve\n",
    "\n",
    "modeling_pipeline = Pipeline([('data_processing', processing_pip),\n",
    "        ('logreg', LogisticRegression(penalty='l2'))])\n",
    "\n",
    "param_range = [0.001,0.01, 0.1, 10.0,100]\n",
    "\n",
    "training_scores, test_scores = validation_curve(estimator=modeling_pipeline, X=x_train, y=y_train,\n",
    "                                               param_name='logreg__C', \n",
    "                                               param_range=param_range,scoring='accuracy',n_jobs=1, cv=15)\n",
    "\n",
    "train_mean = np.mean(training_scores, axis=1)\n",
    "train_std = np.std(training_scores, axis=1)\n",
    "\n",
    "test_mean = np.mean(test_scores, axis=1)\n",
    "test_std = np.std(test_scores, axis=1)\n",
    "\n",
    "plt.plot(param_range, train_mean, color='blue', marker='o', label='Training Accuracy')\n",
    "plt.fill_between(param_range, train_mean + train_std, train_mean - train_std, alpha=0.2, color='blue')\n",
    "\n",
    "plt.plot(param_range, test_mean, color='orange', marker='o', label='Test Accuracy')\n",
    "plt.fill_between(param_range, test_mean + test_std, test_mean - test_std, alpha=0.2, color='orange')\n",
    "\n",
    "plt.xscale('log')\n",
    "plt.xlabel('$C$')\n",
    "plt.ylabel('Accuracy')\n",
    "plt.legend(loc='lower right')\n",
    "plt.show()"
   ],
   "outputs": [
    {
     "output_type": "display_data",
     "data": {
      "image/png": "[encoded data removed]",
      "text/plain": [
       "<Figure size 432x288 with 1 Axes>"
      ]
     },
     "metadata": {
      "needs_background": "light"
     }
    }
   ],
   "metadata": {}
  },
  {
   "cell_type": "markdown",
   "source": [
    "For the hyperparameters C we have used (0.001,0.01, 0.1, 10.0,100) values. Graph shows that accuracy is increasing till the C=0.1 and then it starts slightly declining. Which shows the 0.1 regularization strength would be ideal for logistic regression. Graph also shows that training acurracy is higher than test may be we need more number of samples to avoid overfitting."
   ],
   "metadata": {}
  },
  {
   "cell_type": "markdown",
   "source": [
    "# Question 3\n",
    "- Using cross-validation, evaluate a decision tree. Consider at least 3 different `max_depth` and 3 different `min_samples_split`. Use a fraction for the `min_samples_split`.  \n",
    "- Which combination seems to be the ideal for the decision tree? Use performance from the cross-validation and test sets to defend your opinion.  \n",
    "- Use as much code a you need to defend your opinion.  \n",
    "- Comment on your rationale for your choice."
   ],
   "metadata": {}
  },
  {
   "cell_type": "code",
   "execution_count": 14,
   "source": [
    "# insert code here\n",
    "from sklearn.pipeline import Pipeline\n",
    "from sklearn.compose import ColumnTransformer\n",
    "from sklearn.preprocessing import StandardScaler\n",
    "from sklearn.preprocessing import PolynomialFeatures\n",
    "from sklearn.preprocessing import OneHotEncoder\n",
    "from sklearn.tree import DecisionTreeClassifier\n",
    "from sklearn.model_selection import GridSearchCV\n",
    "\n",
    "modeling_pipeline = Pipeline([\n",
    "    ('data_processing', processing_pip),\n",
    "    ('dt', DecisionTreeClassifier())]\n",
    ")\n",
    "\n",
    "param_grid = [\n",
    "  {'dt__max_depth': [2, 5, 10, 15, 20],\n",
    "   'dt__min_samples_split':[0.1,0.2,0.3,0.5,0.4,0.6,0.7,0.8,0.9]}]\n",
    "\n"
   ],
   "outputs": [],
   "metadata": {}
  },
  {
   "cell_type": "markdown",
   "source": [
    "Was not sure about what fractional values should be given so gave 0.1 to 0.9. Lets see which value is selected for min_samples_split"
   ],
   "metadata": {}
  },
  {
   "cell_type": "code",
   "execution_count": 15,
   "source": [
    "gcv_results = GridSearchCV(estimator=modeling_pipeline, \n",
    "                           param_grid=param_grid, refit=True)\n",
    "gcv_results = gcv_results.fit(x_train, y_train)\n",
    "\n",
    "gcv_results.best_estimator_"
   ],
   "outputs": [
    {
     "output_type": "execute_result",
     "data": {
      "text/plain": [
       "Pipeline(steps=[('data_processing',\n",
       "                 ColumnTransformer(transformers=[('num',\n",
       "                                                  Pipeline(steps=[('impute_missing',\n",
       "                                                                   SimpleImputer(strategy='median')),\n",
       "                                                                  ('stand_num',\n",
       "                                                                   StandardScaler())]),\n",
       "                                                  ['age', 'commuting_distance',\n",
       "                                                   'last_raise_pct',\n",
       "                                                   'total_years_working',\n",
       "                                                   'years_at_company',\n",
       "                                                   'years_in_current_job',\n",
       "                                                   'years_since_last_promotion',\n",
       "                                                   'years_with_current_supervisor']),\n",
       "                                                 ('c...\n",
       "                                                                   SimpleImputer(strategy='most_frequent')),\n",
       "                                                                  ('cat_dummies',\n",
       "                                                                   OneHotEncoder(drop='first',\n",
       "                                                                                 handle_unknown='ignore'))]),\n",
       "                                                  ['frequency_of_travel',\n",
       "                                                   'department', 'education',\n",
       "                                                   'satisfaction_with_environment',\n",
       "                                                   'gender', 'seniority_level',\n",
       "                                                   'position',\n",
       "                                                   'satisfaction_with_job',\n",
       "                                                   'married_or_single',\n",
       "                                                   'last_performance_rating'])])),\n",
       "                ('dt',\n",
       "                 DecisionTreeClassifier(max_depth=15, min_samples_split=0.1))])"
      ]
     },
     "metadata": {},
     "execution_count": 15
    }
   ],
   "metadata": {}
  },
  {
   "cell_type": "code",
   "execution_count": 16,
   "source": [
    "y_testp = gcv_results.predict(x_test)\n",
    "y_testp_dt = gcv_results.predict_proba(x_test)\n",
    "\n",
    "from sklearn.metrics import classification_report\n",
    "print(classification_report(y_test, y_testp))"
   ],
   "outputs": [
    {
     "output_type": "stream",
     "name": "stdout",
     "text": [
      "              precision    recall  f1-score   support\n",
      "\n",
      "           0       0.70      0.64      0.67       101\n",
      "           1       0.66      0.72      0.69        99\n",
      "\n",
      "    accuracy                           0.68       200\n",
      "   macro avg       0.68      0.68      0.68       200\n",
      "weighted avg       0.68      0.68      0.68       200\n",
      "\n"
     ]
    }
   ],
   "metadata": {
    "scrolled": true
   }
  },
  {
   "cell_type": "markdown",
   "source": [
    "According to the GridSearchCV's cross_val_score to measure the prediction performance of the better performing hyperparameters max_depth is 15 and min_samples_split is 0.1. Which gives the accuracy score of 0.69."
   ],
   "metadata": {}
  },
  {
   "cell_type": "markdown",
   "source": [
    "# Question 4\n",
    "- Compare the best logistic regression and best decision tree and decide which is superior.  \n",
    "- Use as much code as you need to defend your opinion. Use performance from the cross-validation and test sets to defend your opinion.  \n",
    "- Comment on your rationale for your choice."
   ],
   "metadata": {}
  },
  {
   "cell_type": "code",
   "execution_count": 17,
   "source": [
    "# insert code here\n",
    "from sklearn.model_selection import GridSearchCV\n",
    "\n",
    "modeling_pipeline_lr = Pipeline([\n",
    "    ('data_processing', processing_pip),\n",
    "    ('logreg', LogisticRegression(penalty='l2'))]\n",
    ")\n",
    "\n",
    "param_grid = [\n",
    "  {'logreg__class_weight': [None, 'balanced'], 'logreg__C':[0.1]}\n",
    " ]\n",
    "\n",
    "gcv_results = GridSearchCV(estimator=modeling_pipeline_lr, \n",
    "                           param_grid=param_grid, refit=True, cv=15)\n",
    "gcv_results = gcv_results.fit(x_train, y_train)\n",
    "\n",
    "gcv_results.best_estimator_\n"
   ],
   "outputs": [
    {
     "output_type": "execute_result",
     "data": {
      "text/plain": [
       "Pipeline(steps=[('data_processing',\n",
       "                 ColumnTransformer(transformers=[('num',\n",
       "                                                  Pipeline(steps=[('impute_missing',\n",
       "                                                                   SimpleImputer(strategy='median')),\n",
       "                                                                  ('stand_num',\n",
       "                                                                   StandardScaler())]),\n",
       "                                                  ['age', 'commuting_distance',\n",
       "                                                   'last_raise_pct',\n",
       "                                                   'total_years_working',\n",
       "                                                   'years_at_company',\n",
       "                                                   'years_in_current_job',\n",
       "                                                   'years_since_last_promotion',\n",
       "                                                   'years_with_current_supervisor']),\n",
       "                                                 ('c...\n",
       "                                                                   SimpleImputer(strategy='most_frequent')),\n",
       "                                                                  ('cat_dummies',\n",
       "                                                                   OneHotEncoder(drop='first',\n",
       "                                                                                 handle_unknown='ignore'))]),\n",
       "                                                  ['frequency_of_travel',\n",
       "                                                   'department', 'education',\n",
       "                                                   'satisfaction_with_environment',\n",
       "                                                   'gender', 'seniority_level',\n",
       "                                                   'position',\n",
       "                                                   'satisfaction_with_job',\n",
       "                                                   'married_or_single',\n",
       "                                                   'last_performance_rating'])])),\n",
       "                ('logreg', LogisticRegression(C=0.1, class_weight='balanced'))])"
      ]
     },
     "metadata": {},
     "execution_count": 17
    }
   ],
   "metadata": {}
  },
  {
   "cell_type": "code",
   "execution_count": 18,
   "source": [
    "y_testp = gcv_results.predict(x_test)\n",
    "y_testpr_lr = gcv_results.predict_proba(x_test)\n",
    "\n",
    "from sklearn.metrics import classification_report\n",
    "print(classification_report(y_test, y_testp))"
   ],
   "outputs": [
    {
     "output_type": "stream",
     "name": "stdout",
     "text": [
      "              precision    recall  f1-score   support\n",
      "\n",
      "           0       0.78      0.72      0.75       101\n",
      "           1       0.74      0.79      0.76        99\n",
      "\n",
      "    accuracy                           0.76       200\n",
      "   macro avg       0.76      0.76      0.75       200\n",
      "weighted avg       0.76      0.76      0.75       200\n",
      "\n"
     ]
    }
   ],
   "metadata": {}
  },
  {
   "cell_type": "code",
   "execution_count": 19,
   "source": [
    "modeling_pipeline_dt = Pipeline([\n",
    "    ('data_processing', processing_pip),\n",
    "    ('dt', DecisionTreeClassifier())]\n",
    ")\n",
    "\n",
    "param_grid = [{'dt__max_depth': [10],\n",
    "   'dt__min_samples_split':[0.1]\n",
    "   }]\n",
    "  \n",
    "gcv_results = GridSearchCV(estimator=modeling_pipeline_dt, \n",
    "                           param_grid=param_grid, refit=True)\n",
    "gcv_results = gcv_results.fit(x_train, y_train)\n",
    "\n",
    "y_testp = gcv_results.predict(x_test)\n",
    "y_testp_dt = gcv_results.predict_proba(x_test)\n",
    "\n",
    "from sklearn.metrics import classification_report\n",
    "print(classification_report(y_test, y_testp))"
   ],
   "outputs": [
    {
     "output_type": "stream",
     "name": "stdout",
     "text": [
      "              precision    recall  f1-score   support\n",
      "\n",
      "           0       0.73      0.61      0.67       101\n",
      "           1       0.66      0.77      0.71        99\n",
      "\n",
      "    accuracy                           0.69       200\n",
      "   macro avg       0.70      0.69      0.69       200\n",
      "weighted avg       0.70      0.69      0.69       200\n",
      "\n"
     ]
    }
   ],
   "metadata": {}
  },
  {
   "cell_type": "markdown",
   "source": [
    "Considering both models classification_report logistic regression with 0.1 strenght is better performing. It has high accuracy score. Also for decision tree recall value for False_class is low with the given hyperparameters. May be we need to try integer value for min_samples_split parameter. "
   ],
   "metadata": {}
  },
  {
   "cell_type": "code",
   "execution_count": null,
   "source": [
    "roc curve , accuracy "
   ],
   "outputs": [],
   "metadata": {}
  }
 ],
 "metadata": {
  "kernelspec": {
   "display_name": "Python 3 (ipykernel)",
   "language": "python",
   "name": "python3"
  },
  "language_info": {
   "codemirror_mode": {
    "name": "ipython",
    "version": 3
   },
   "file_extension": ".py",
   "mimetype": "text/x-python",
   "name": "python",
   "nbconvert_exporter": "python",
   "pygments_lexer": "ipython3",
   "version": "3.8.10"
  }
 },
 "nbformat": 4,
 "nbformat_minor": 4
}