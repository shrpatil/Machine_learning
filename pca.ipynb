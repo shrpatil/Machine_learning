{
 "cells": [
  {
   "cell_type": "markdown",
   "source": [
    "# PCA and Dimension Reduction"
   ],
   "metadata": {}
  },
  {
   "cell_type": "code",
   "execution_count": 1,
   "source": [
    "import pandas as pd\n",
    "import matplotlib.pyplot as plt\n",
    "%matplotlib inline\n",
    "import numpy as np\n",
    "\n",
    "df = pd.read_csv('pca-dataset.csv')\n",
    "df.head()"
   ],
   "outputs": [
    {
     "output_type": "execute_result",
     "data": {
      "text/html": [
       "<div>\n",
       "<style scoped>\n",
       "    .dataframe tbody tr th:only-of-type {\n",
       "        vertical-align: middle;\n",
       "    }\n",
       "\n",
       "    .dataframe tbody tr th {\n",
       "        vertical-align: top;\n",
       "    }\n",
       "\n",
       "    .dataframe thead th {\n",
       "        text-align: right;\n",
       "    }\n",
       "</style>\n",
       "<table border=\"1\" class=\"dataframe\">\n",
       "  <thead>\n",
       "    <tr style=\"text-align: right;\">\n",
       "      <th></th>\n",
       "      <th>var0</th>\n",
       "      <th>var1</th>\n",
       "      <th>var2</th>\n",
       "      <th>var3</th>\n",
       "      <th>var4</th>\n",
       "      <th>var5</th>\n",
       "      <th>var6</th>\n",
       "      <th>var7</th>\n",
       "      <th>var8</th>\n",
       "      <th>var9</th>\n",
       "      <th>...</th>\n",
       "      <th>var11</th>\n",
       "      <th>var12</th>\n",
       "      <th>var13</th>\n",
       "      <th>var14</th>\n",
       "      <th>var15</th>\n",
       "      <th>var16</th>\n",
       "      <th>var17</th>\n",
       "      <th>var18</th>\n",
       "      <th>var19</th>\n",
       "      <th>target</th>\n",
       "    </tr>\n",
       "  </thead>\n",
       "  <tbody>\n",
       "    <tr>\n",
       "      <th>0</th>\n",
       "      <td>0.922486</td>\n",
       "      <td>1.047879</td>\n",
       "      <td>-2.963721</td>\n",
       "      <td>-0.056906</td>\n",
       "      <td>1.265347</td>\n",
       "      <td>3.858544</td>\n",
       "      <td>0.491978</td>\n",
       "      <td>-0.490947</td>\n",
       "      <td>-4.320868</td>\n",
       "      <td>0.593099</td>\n",
       "      <td>...</td>\n",
       "      <td>0.536582</td>\n",
       "      <td>-0.725250</td>\n",
       "      <td>1.331478</td>\n",
       "      <td>1.185142</td>\n",
       "      <td>-2.963721</td>\n",
       "      <td>1.314720</td>\n",
       "      <td>2.487634</td>\n",
       "      <td>-0.424585</td>\n",
       "      <td>0.995500</td>\n",
       "      <td>1.0</td>\n",
       "    </tr>\n",
       "    <tr>\n",
       "      <th>1</th>\n",
       "      <td>1.210683</td>\n",
       "      <td>-2.384247</td>\n",
       "      <td>2.590403</td>\n",
       "      <td>-2.600047</td>\n",
       "      <td>-1.039447</td>\n",
       "      <td>-0.687409</td>\n",
       "      <td>0.847554</td>\n",
       "      <td>-0.563711</td>\n",
       "      <td>-4.944035</td>\n",
       "      <td>0.357768</td>\n",
       "      <td>...</td>\n",
       "      <td>-1.811372</td>\n",
       "      <td>-1.981515</td>\n",
       "      <td>0.212563</td>\n",
       "      <td>1.569957</td>\n",
       "      <td>2.590403</td>\n",
       "      <td>2.475946</td>\n",
       "      <td>0.866024</td>\n",
       "      <td>1.414244</td>\n",
       "      <td>0.337811</td>\n",
       "      <td>0.0</td>\n",
       "    </tr>\n",
       "    <tr>\n",
       "      <th>2</th>\n",
       "      <td>0.428323</td>\n",
       "      <td>-4.476885</td>\n",
       "      <td>8.180427</td>\n",
       "      <td>-4.260930</td>\n",
       "      <td>-1.435362</td>\n",
       "      <td>-6.440634</td>\n",
       "      <td>4.620321</td>\n",
       "      <td>-1.400001</td>\n",
       "      <td>-7.511350</td>\n",
       "      <td>1.946596</td>\n",
       "      <td>...</td>\n",
       "      <td>-2.506842</td>\n",
       "      <td>0.704681</td>\n",
       "      <td>-2.628639</td>\n",
       "      <td>3.458000</td>\n",
       "      <td>8.180427</td>\n",
       "      <td>3.718988</td>\n",
       "      <td>0.771003</td>\n",
       "      <td>-1.153540</td>\n",
       "      <td>-0.148205</td>\n",
       "      <td>0.0</td>\n",
       "    </tr>\n",
       "    <tr>\n",
       "      <th>3</th>\n",
       "      <td>-0.631406</td>\n",
       "      <td>0.255251</td>\n",
       "      <td>-4.260573</td>\n",
       "      <td>1.140672</td>\n",
       "      <td>-0.738570</td>\n",
       "      <td>5.966119</td>\n",
       "      <td>-5.335446</td>\n",
       "      <td>-0.729138</td>\n",
       "      <td>5.655376</td>\n",
       "      <td>-0.852272</td>\n",
       "      <td>...</td>\n",
       "      <td>-0.733406</td>\n",
       "      <td>1.295768</td>\n",
       "      <td>-1.049316</td>\n",
       "      <td>3.925402</td>\n",
       "      <td>-4.260573</td>\n",
       "      <td>-4.457084</td>\n",
       "      <td>-2.563916</td>\n",
       "      <td>-1.388560</td>\n",
       "      <td>0.179481</td>\n",
       "      <td>2.0</td>\n",
       "    </tr>\n",
       "    <tr>\n",
       "      <th>4</th>\n",
       "      <td>-1.217200</td>\n",
       "      <td>-3.333409</td>\n",
       "      <td>4.420645</td>\n",
       "      <td>1.231249</td>\n",
       "      <td>-0.081330</td>\n",
       "      <td>-2.874278</td>\n",
       "      <td>1.404699</td>\n",
       "      <td>0.680510</td>\n",
       "      <td>4.243968</td>\n",
       "      <td>2.281619</td>\n",
       "      <td>...</td>\n",
       "      <td>2.104220</td>\n",
       "      <td>1.120948</td>\n",
       "      <td>-1.349871</td>\n",
       "      <td>-1.680847</td>\n",
       "      <td>4.420645</td>\n",
       "      <td>-3.035590</td>\n",
       "      <td>-1.190401</td>\n",
       "      <td>-0.421525</td>\n",
       "      <td>-0.883157</td>\n",
       "      <td>0.0</td>\n",
       "    </tr>\n",
       "  </tbody>\n",
       "</table>\n",
       "<p>5 rows × 21 columns</p>\n",
       "</div>"
      ],
      "text/plain": [
       "       var0      var1      var2      var3      var4      var5      var6  \\\n",
       "0  0.922486  1.047879 -2.963721 -0.056906  1.265347  3.858544  0.491978   \n",
       "1  1.210683 -2.384247  2.590403 -2.600047 -1.039447 -0.687409  0.847554   \n",
       "2  0.428323 -4.476885  8.180427 -4.260930 -1.435362 -6.440634  4.620321   \n",
       "3 -0.631406  0.255251 -4.260573  1.140672 -0.738570  5.966119 -5.335446   \n",
       "4 -1.217200 -3.333409  4.420645  1.231249 -0.081330 -2.874278  1.404699   \n",
       "\n",
       "       var7      var8      var9  ...     var11     var12     var13     var14  \\\n",
       "0 -0.490947 -4.320868  0.593099  ...  0.536582 -0.725250  1.331478  1.185142   \n",
       "1 -0.563711 -4.944035  0.357768  ... -1.811372 -1.981515  0.212563  1.569957   \n",
       "2 -1.400001 -7.511350  1.946596  ... -2.506842  0.704681 -2.628639  3.458000   \n",
       "3 -0.729138  5.655376 -0.852272  ... -0.733406  1.295768 -1.049316  3.925402   \n",
       "4  0.680510  4.243968  2.281619  ...  2.104220  1.120948 -1.349871 -1.680847   \n",
       "\n",
       "      var15     var16     var17     var18     var19  target  \n",
       "0 -2.963721  1.314720  2.487634 -0.424585  0.995500     1.0  \n",
       "1  2.590403  2.475946  0.866024  1.414244  0.337811     0.0  \n",
       "2  8.180427  3.718988  0.771003 -1.153540 -0.148205     0.0  \n",
       "3 -4.260573 -4.457084 -2.563916 -1.388560  0.179481     2.0  \n",
       "4  4.420645 -3.035590 -1.190401 -0.421525 -0.883157     0.0  \n",
       "\n",
       "[5 rows x 21 columns]"
      ]
     },
     "metadata": {},
     "execution_count": 1
    }
   ],
   "metadata": {}
  },
  {
   "cell_type": "code",
   "execution_count": 2,
   "source": [
    "df.info()"
   ],
   "outputs": [
    {
     "output_type": "stream",
     "name": "stdout",
     "text": [
      "<class 'pandas.core.frame.DataFrame'>\n",
      "RangeIndex: 1500 entries, 0 to 1499\n",
      "Data columns (total 21 columns):\n",
      " #   Column  Non-Null Count  Dtype  \n",
      "---  ------  --------------  -----  \n",
      " 0   var0    1500 non-null   float64\n",
      " 1   var1    1500 non-null   float64\n",
      " 2   var2    1500 non-null   float64\n",
      " 3   var3    1500 non-null   float64\n",
      " 4   var4    1500 non-null   float64\n",
      " 5   var5    1500 non-null   float64\n",
      " 6   var6    1500 non-null   float64\n",
      " 7   var7    1500 non-null   float64\n",
      " 8   var8    1500 non-null   float64\n",
      " 9   var9    1500 non-null   float64\n",
      " 10  var10   1500 non-null   float64\n",
      " 11  var11   1500 non-null   float64\n",
      " 12  var12   1500 non-null   float64\n",
      " 13  var13   1500 non-null   float64\n",
      " 14  var14   1500 non-null   float64\n",
      " 15  var15   1500 non-null   float64\n",
      " 16  var16   1500 non-null   float64\n",
      " 17  var17   1500 non-null   float64\n",
      " 18  var18   1500 non-null   float64\n",
      " 19  var19   1500 non-null   float64\n",
      " 20  target  1500 non-null   float64\n",
      "dtypes: float64(21)\n",
      "memory usage: 246.2 KB\n"
     ]
    }
   ],
   "metadata": {}
  },
  {
   "cell_type": "code",
   "execution_count": 3,
   "source": [
    "from sklearn.model_selection import train_test_split\n",
    "\n",
    "X = df[[x for x in df.columns if x.startswith('var')]]\n",
    "y = df['target']\n",
    "\n",
    "X_train, X_test, y_training, y_test = train_test_split(X, y, test_size=0.2, random_state=123)\n",
    "\n",
    "print(f'Training samples: {X_train.shape[0]:,}')\n",
    "print(f'Test samples: {X_test.shape[0]:,}')\n",
    "\n",
    "print('\\nFeatures:')\n",
    "print(*X_train, sep='\\t')"
   ],
   "outputs": [
    {
     "output_type": "stream",
     "name": "stdout",
     "text": [
      "Training samples: 1,200\n",
      "Test samples: 300\n",
      "\n",
      "Features:\n",
      "var0\tvar1\tvar2\tvar3\tvar4\tvar5\tvar6\tvar7\tvar8\tvar9\tvar10\tvar11\tvar12\tvar13\tvar14\tvar15\tvar16\tvar17\tvar18\tvar19\n"
     ]
    }
   ],
   "metadata": {}
  },
  {
   "cell_type": "markdown",
   "source": [
    "### Data Description\n",
    "- `var1 - var19`: a feature for the data.  \n",
    "- `target`: variable we wish to be able to predict, which is 1 of 3 classes."
   ],
   "metadata": {}
  },
  {
   "cell_type": "markdown",
   "source": [
    "# Question 1\n",
    "- Use principle components analysis to determine the number of components to reduce the data to by evaluating the explained variance ratio (use `X_train`).  \n",
    "- Remember to scale the data first.  \n",
    "- What number of components would you recommend based on your analysis?  \n",
    "- Explain your results using markdown cells."
   ],
   "metadata": {}
  },
  {
   "cell_type": "code",
   "execution_count": 4,
   "source": [
    "from sklearn.preprocessing import StandardScaler\n",
    "sc = StandardScaler()\n",
    "X_train_std = sc.fit_transform(X_train)\n",
    "X_test_std  = sc.transform(X_test)"
   ],
   "outputs": [],
   "metadata": {}
  },
  {
   "cell_type": "code",
   "execution_count": 5,
   "source": [
    "# insert code here\n",
    "\n",
    "import numpy as np\n",
    "\n",
    "cov_mat = np.cov(X_train_std.T)\n",
    "print(cov_mat.round(1))"
   ],
   "outputs": [
    {
     "output_type": "stream",
     "name": "stdout",
     "text": [
      "[[ 1.   0.  -0.   0.  -0.   0.  -0.   0.  -0.  -0.   0.   0.  -0.   0.\n",
      "  -0.  -0.   0.   0.  -0.   0. ]\n",
      " [ 0.   1.  -0.6  0.4  0.   0.1 -0.   0.   0.3 -0.   0.   0.  -0.   0.2\n",
      "  -0.2 -0.6 -0.1 -0.2 -0.  -0. ]\n",
      " [-0.  -0.6  1.  -0.1 -0.  -0.7  0.4 -0.  -0.1  0.3 -0.5 -0.2  0.  -0.3\n",
      "  -0.3  1.   0.5 -0.   0.  -0. ]\n",
      " [ 0.   0.4 -0.1  1.   0.  -0.1 -0.3  0.   0.6  0.3 -0.1  0.6  0.  -0.1\n",
      "  -0.5 -0.1  0.  -0.2 -0.  -0. ]\n",
      " [-0.   0.  -0.   0.   1.   0.   0.   0.  -0.   0.  -0.   0.   0.   0.\n",
      "  -0.  -0.   0.   0.   0.   0. ]\n",
      " [ 0.   0.1 -0.7 -0.1  0.   1.  -0.6  0.   0.  -0.2  0.5  0.2  0.   0.2\n",
      "   0.4 -0.7 -0.6  0.4 -0.   0. ]\n",
      " [-0.  -0.   0.4 -0.3  0.  -0.6  1.  -0.  -0.4  0.4 -0.3 -0.1 -0.   0.2\n",
      "  -0.3  0.4  0.2  0.   0.  -0. ]\n",
      " [ 0.   0.  -0.   0.   0.   0.  -0.   1.   0.  -0.   0.   0.   0.  -0.\n",
      "   0.  -0.  -0.   0.   0.  -0. ]\n",
      " [-0.   0.3 -0.1  0.6 -0.   0.  -0.4  0.   1.  -0.  -0.5  0.5 -0.  -0.3\n",
      "  -0.3 -0.1 -0.5 -0.3 -0.  -0. ]\n",
      " [-0.  -0.   0.3  0.3  0.  -0.2  0.4 -0.  -0.   1.  -0.1 -0.1  0.   0.2\n",
      "  -0.4  0.3  0.   0.1 -0.1 -0.1]\n",
      " [ 0.   0.  -0.5 -0.1 -0.   0.5 -0.3  0.  -0.5 -0.1  1.  -0.1  0.   0.\n",
      "   0.6 -0.5  0.1 -0.  -0.1  0. ]\n",
      " [ 0.   0.  -0.2  0.6  0.   0.2 -0.1  0.   0.5 -0.1 -0.1  1.   0.  -0.1\n",
      "  -0.3 -0.2 -0.3  0.  -0.  -0. ]\n",
      " [-0.  -0.   0.   0.   0.   0.  -0.   0.  -0.   0.   0.   0.   1.  -0.1\n",
      "   0.   0.   0.   0.  -0.   0. ]\n",
      " [ 0.   0.2 -0.3 -0.1  0.   0.2  0.2 -0.  -0.3  0.2  0.  -0.1 -0.1  1.\n",
      "  -0.5 -0.3  0.1  0.1 -0.   0. ]\n",
      " [-0.  -0.2 -0.3 -0.5 -0.   0.4 -0.3  0.  -0.3 -0.4  0.6 -0.3  0.  -0.5\n",
      "   1.  -0.3 -0.3  0.  -0.   0. ]\n",
      " [-0.  -0.6  1.  -0.1 -0.  -0.7  0.4 -0.  -0.1  0.3 -0.5 -0.2  0.  -0.3\n",
      "  -0.3  1.   0.5 -0.   0.  -0. ]\n",
      " [ 0.  -0.1  0.5  0.   0.  -0.6  0.2 -0.  -0.5  0.   0.1 -0.3  0.   0.1\n",
      "  -0.3  0.5  1.  -0.1  0.1  0. ]\n",
      " [ 0.  -0.2 -0.  -0.2  0.   0.4  0.   0.  -0.3  0.1 -0.   0.   0.   0.1\n",
      "   0.  -0.  -0.1  1.   0.  -0. ]\n",
      " [-0.  -0.   0.  -0.   0.  -0.   0.   0.  -0.  -0.1 -0.1 -0.  -0.  -0.\n",
      "  -0.   0.   0.1  0.   1.   0. ]\n",
      " [ 0.  -0.  -0.  -0.   0.   0.  -0.  -0.  -0.  -0.1  0.  -0.   0.   0.\n",
      "   0.  -0.   0.  -0.   0.   1. ]]\n"
     ]
    }
   ],
   "metadata": {}
  },
  {
   "cell_type": "code",
   "execution_count": 6,
   "source": [
    "eigen_vals, eigen_vecs = np.linalg.eig(cov_mat)\n",
    "\n",
    "eigen_val_list=[]\n",
    "# converting complex number to float\n",
    "for x1 in eigen_vals:\n",
    "    a=x1.real\n",
    "    b=x1.imag\n",
    "    val=a+b\n",
    "    eigen_val_list.append(val)\n",
    "\n",
    "plt.plot(eigen_val_list)\n",
    "plt.title('Eigenvalues', loc='left')\n",
    "plt.show()"
   ],
   "outputs": [
    {
     "output_type": "display_data",
     "data": {
      "image/png": "[encoded data removed]",
      "text/plain": [
       "<Figure size 432x288 with 1 Axes>"
      ]
     },
     "metadata": {
      "needs_background": "light"
     }
    }
   ],
   "metadata": {}
  },
  {
   "cell_type": "code",
   "execution_count": 7,
   "source": [
    "eigen_vals"
   ],
   "outputs": [
    {
     "output_type": "execute_result",
     "data": {
      "text/plain": [
       "array([ 4.17836097e+00+0.00000000e+00j,  2.95439134e+00+0.00000000e+00j,\n",
       "        2.04205464e+00+0.00000000e+00j,  1.45484429e+00+0.00000000e+00j,\n",
       "        6.11992043e-01+0.00000000e+00j,  7.75781426e-01+0.00000000e+00j,\n",
       "        8.16564332e-01+0.00000000e+00j,  1.15859769e+00+0.00000000e+00j,\n",
       "        9.26544726e-01+0.00000000e+00j,  9.50386076e-01+0.00000000e+00j,\n",
       "        1.06477881e+00+0.00000000e+00j,  1.05528304e+00+0.00000000e+00j,\n",
       "        1.01068550e+00+0.00000000e+00j,  1.01641568e+00+0.00000000e+00j,\n",
       "       -3.80539368e-16+0.00000000e+00j, -7.38557795e-16+0.00000000e+00j,\n",
       "        7.31935274e-17+1.94975402e-16j,  7.31935274e-17-1.94975402e-16j,\n",
       "        1.29211983e-16+0.00000000e+00j,  9.96159843e-17+0.00000000e+00j])"
      ]
     },
     "metadata": {},
     "execution_count": 7
    }
   ],
   "metadata": {
    "scrolled": true
   }
  },
  {
   "cell_type": "code",
   "execution_count": 8,
   "source": [
    "eigen_val_list"
   ],
   "outputs": [
    {
     "output_type": "execute_result",
     "data": {
      "text/plain": [
       "[4.178360968434636,\n",
       " 2.9543913438786022,\n",
       " 2.0420546384842697,\n",
       " 1.4548442919832978,\n",
       " 0.6119920426067568,\n",
       " 0.7757814258866357,\n",
       " 0.8165643322457203,\n",
       " 1.158597693790651,\n",
       " 0.9265447256004181,\n",
       " 0.9503860761571741,\n",
       " 1.0647788104886844,\n",
       " 1.0552830397325177,\n",
       " 1.010685496744035,\n",
       " 1.0164156811058866,\n",
       " -3.805393682734431e-16,\n",
       " -7.3855779451602e-16,\n",
       " 2.6816892967679503e-16,\n",
       " -1.2178187482787527e-16,\n",
       " 1.292119830518639e-16,\n",
       " 9.961598427392787e-17]"
      ]
     },
     "metadata": {},
     "execution_count": 8
    }
   ],
   "metadata": {}
  },
  {
   "cell_type": "code",
   "execution_count": 9,
   "source": [
    "tot = sum(eigen_val_list)\n",
    "\n",
    "var_exp = [(i / tot) for i in sorted(eigen_val_list, reverse=True)]\n",
    "cum_var_exp = np.cumsum(var_exp)\n",
    "\n"
   ],
   "outputs": [],
   "metadata": {}
  },
  {
   "cell_type": "code",
   "execution_count": 10,
   "source": [
    "var_exp"
   ],
   "outputs": [
    {
     "output_type": "execute_result",
     "data": {
      "text/plain": [
       "[0.20874395004804697,\n",
       " 0.1475964675546018,\n",
       " 0.10201764631427661,\n",
       " 0.0726815960869989,\n",
       " 0.05788160978562459,\n",
       " 0.05319457474066384,\n",
       " 0.05272018185997034,\n",
       " 0.0507784334019149,\n",
       " 0.05049216294150407,\n",
       " 0.04747970438801881,\n",
       " 0.04628863024978754,\n",
       " 0.040794193098442434,\n",
       " 0.03875674706825316,\n",
       " 0.03057410246189588,\n",
       " 1.3397272778436548e-17,\n",
       " 6.455215319966031e-18,\n",
       " 4.976648547684978e-18,\n",
       " -6.084019496609267e-18,\n",
       " -1.9011112606660755e-17,\n",
       " -3.689711648436282e-17]"
      ]
     },
     "metadata": {},
     "execution_count": 10
    }
   ],
   "metadata": {}
  },
  {
   "cell_type": "code",
   "execution_count": 11,
   "source": [
    "plt.bar(range(1,21), var_exp, alpha=0.5, align='center', label='Variance Explained')\n",
    "plt.step(range(1,21), cum_var_exp, where='mid', label='Cumulative Explained')\n",
    "plt.xlabel('Principal Componment')\n",
    "plt.ylabel('Explained Variance')\n",
    "plt.show()"
   ],
   "outputs": [
    {
     "output_type": "display_data",
     "data": {
      "image/png": "[encoded data removed]",
      "text/plain": [
       "<Figure size 432x288 with 1 Axes>"
      ]
     },
     "metadata": {
      "needs_background": "light"
     }
    }
   ],
   "metadata": {}
  },
  {
   "cell_type": "markdown",
   "source": [
    "> Above diagram shows that the first, second and third component explains 20%, almost 40% and 50% of variance in the data respectively. So we will set k=3 which covers 100% of variance in the data."
   ],
   "metadata": {}
  },
  {
   "cell_type": "markdown",
   "source": [
    "<Insert comments>"
   ],
   "metadata": {}
  },
  {
   "cell_type": "markdown",
   "source": [
    "# Question 2\n",
    "- Evaluate the target variable in the `df` object.  \n",
    "- Which metric would you use in evaluating a predictive model. Explain your choice in the markdown cell. "
   ],
   "metadata": {}
  },
  {
   "cell_type": "code",
   "execution_count": 12,
   "source": [
    "# Insert code here\n",
    "df['target'].hist()\n",
    "plt.show()"
   ],
   "outputs": [
    {
     "output_type": "display_data",
     "data": {
      "image/png": "[encoded data removed]",
      "text/plain": [
       "<Figure size 432x288 with 1 Axes>"
      ]
     },
     "metadata": {
      "needs_background": "light"
     }
    }
   ],
   "metadata": {}
  },
  {
   "cell_type": "markdown",
   "source": [
    "> Graph shows that two class are closely balanced where as one class is unbalance form other two classes. If we want to target a particular class we can use precision or recall but in this case how good the model performed for all the classes can be measured by accuracy. So I would use accuracy as a evaluation metric."
   ],
   "metadata": {}
  },
  {
   "cell_type": "markdown",
   "source": [
    "# Question 3\n",
    "- Without using PCA, create a logistic regression model using practices discussed in class.  \n",
    "- Which model would you choose? Explain your results in the markdown cells.    \n",
    "- What is the accuracy, precision, and recall for the test data?  "
   ],
   "metadata": {}
  },
  {
   "cell_type": "code",
   "execution_count": 13,
   "source": [
    "# Insert code here\n",
    "from sklearn.model_selection import train_test_split\n",
    "from sklearn.pipeline import Pipeline\n",
    "from sklearn.preprocessing import StandardScaler\n",
    "from sklearn.linear_model import LogisticRegression\n",
    "from sklearn.model_selection import GridSearchCV\n",
    "from sklearn.decomposition import PCA\n",
    "\n",
    "p = Pipeline([('scaling', StandardScaler()), \n",
    "              ('model', LogisticRegression())\n",
    "             ])\n",
    "\n",
    "m=p.fit(X_train, y_training)\n",
    "y_hat = m.predict(X_test)"
   ],
   "outputs": [],
   "metadata": {}
  },
  {
   "cell_type": "code",
   "execution_count": 14,
   "source": [
    "from sklearn.metrics import classification_report\n",
    "print(classification_report(y_test, y_hat))"
   ],
   "outputs": [
    {
     "output_type": "stream",
     "name": "stdout",
     "text": [
      "              precision    recall  f1-score   support\n",
      "\n",
      "         0.0       0.73      0.78      0.76       149\n",
      "         1.0       0.63      0.52      0.57        73\n",
      "         2.0       0.66      0.69      0.68        78\n",
      "\n",
      "    accuracy                           0.69       300\n",
      "   macro avg       0.68      0.66      0.67       300\n",
      "weighted avg       0.69      0.69      0.69       300\n",
      "\n"
     ]
    }
   ],
   "metadata": {}
  },
  {
   "cell_type": "markdown",
   "source": [
    "> Without using PCA if we use Logistic Regression on the data models accuracy is 0.69 . Precision recall and f1-score for class 0 is slightly better than other two classes may be thats because frequency of class 0 was higher than the class 1 or 2. "
   ],
   "metadata": {}
  },
  {
   "cell_type": "markdown",
   "source": [
    "# Question 4\n",
    "- Use PCA within a pipeline to create a logistic regression model using best practices from class.  \n",
    "- Which model performs the best on the training data? Explain your results in markdown cells.  \n",
    "- What is the accuracy, precision, and recall for the test data?\n",
    "- Does this perform better than the original logistic regression model?"
   ],
   "metadata": {}
  },
  {
   "cell_type": "code",
   "execution_count": 15,
   "source": [
    "eigen_pairs = [(np.abs(eigen_vals[i]), eigen_vecs[:, i]) for i in range(len(eigen_vals))]\n",
    "eigen_pairs.sort(key=lambda k: k[0], reverse=True)"
   ],
   "outputs": [],
   "metadata": {}
  },
  {
   "cell_type": "code",
   "execution_count": 16,
   "source": [
    "w = np.hstack((eigen_pairs[0][1][:, np.newaxis],\n",
    "              eigen_pairs[1][1][:, np.newaxis],\n",
    "              eigen_pairs[2][1][:, np.newaxis]))\n",
    "\n",
    "print(w)"
   ],
   "outputs": [
    {
     "output_type": "stream",
     "name": "stdout",
     "text": [
      "[[-0.01677058+0.j -0.01267786+0.j  0.0310216 +0.j]\n",
      " [-0.19628185+0.j -0.24321901+0.j  0.32798283+0.j]\n",
      " [ 0.46123271+0.j  0.03700118+0.j -0.19846444+0.j]\n",
      " [-0.02419795+0.j -0.5028792 +0.j  0.00170003+0.j]\n",
      " [-0.00527296+0.j -0.01413383+0.j  0.04973853+0.j]\n",
      " [-0.42803917+0.j  0.10776123+0.j  0.0009145 +0.j]\n",
      " [ 0.30160969+0.j  0.07738335+0.j  0.28739999+0.j]\n",
      " [-0.03106399+0.j -0.01329519+0.j -0.03667353+0.j]\n",
      " [-0.09738057+0.j -0.48803427+0.j -0.28651344+0.j]\n",
      " [ 0.18784189+0.j -0.12966948+0.j  0.27941678+0.j]\n",
      " [-0.25837301+0.j  0.29587934+0.j  0.0727379 +0.j]\n",
      " [-0.11095074+0.j -0.36746878+0.j -0.10401917+0.j]\n",
      " [-0.00241432+0.j  0.00925076+0.j -0.04102652+0.j]\n",
      " [-0.05547299+0.j  0.00795778+0.j  0.6137239 +0.j]\n",
      " [-0.22061698+0.j  0.38009867+0.j -0.35344963+0.j]\n",
      " [ 0.46123271+0.j  0.03700118+0.j -0.19846444+0.j]\n",
      " [ 0.28546562+0.j  0.11360529+0.j  0.17325973+0.j]\n",
      " [-0.04308116+0.j  0.17269017+0.j  0.12553684+0.j]\n",
      " [ 0.03085244+0.j  0.00853699+0.j -0.01859872+0.j]\n",
      " [-0.00831018+0.j  0.04567905+0.j -0.02452855+0.j]]\n"
     ]
    }
   ],
   "metadata": {}
  },
  {
   "cell_type": "code",
   "execution_count": 19,
   "source": [
    "# ignoring the warnings \n",
    "import warnings\n",
    "warnings.filterwarnings(\"ignore\")"
   ],
   "outputs": [],
   "metadata": {}
  },
  {
   "cell_type": "code",
   "execution_count": 20,
   "source": [
    "X_train_pca = X_train_std.dot(w)\n",
    "\n",
    "plt.plot(X_train_pca[:,0], X_train_pca[:,1], 'bo')\n",
    "plt.show()"
   ],
   "outputs": [
    {
     "output_type": "display_data",
     "data": {
      "image/png": "[encoded data removed]",
      "text/plain": [
       "<Figure size 432x288 with 1 Axes>"
      ]
     },
     "metadata": {
      "needs_background": "light"
     }
    }
   ],
   "metadata": {}
  },
  {
   "cell_type": "code",
   "execution_count": 21,
   "source": [
    "X_train_pca = X_train_std.dot(w)\n",
    "\n",
    "plt.plot(X_train_pca[:,1], X_train_pca[:,2], 'bo')\n",
    "plt.show()"
   ],
   "outputs": [
    {
     "output_type": "display_data",
     "data": {
      "image/png": "[encoded data removed]",
      "text/plain": [
       "<Figure size 432x288 with 1 Axes>"
      ]
     },
     "metadata": {
      "needs_background": "light"
     }
    }
   ],
   "metadata": {}
  },
  {
   "cell_type": "code",
   "execution_count": 22,
   "source": [
    "X_train_pca = X_train_std.dot(w)\n",
    "\n",
    "plt.plot(X_train_pca[:,0], X_train_pca[:,2], 'bo')\n",
    "plt.show()"
   ],
   "outputs": [
    {
     "output_type": "display_data",
     "data": {
      "image/png": "[encoded data removed]",
      "text/plain": [
       "<Figure size 432x288 with 1 Axes>"
      ]
     },
     "metadata": {
      "needs_background": "light"
     }
    }
   ],
   "metadata": {}
  },
  {
   "cell_type": "code",
   "execution_count": 23,
   "source": [
    "# Insert code\n",
    "from sklearn.model_selection import train_test_split\n",
    "from sklearn.pipeline import Pipeline\n",
    "from sklearn.preprocessing import StandardScaler\n",
    "from sklearn.linear_model import LogisticRegression\n",
    "from sklearn.model_selection import GridSearchCV\n",
    "from sklearn.decomposition import PCA\n",
    "\n",
    "p = Pipeline([('scaling', StandardScaler()), \n",
    "              ('pca', PCA()),\n",
    "              ('model', LogisticRegression())\n",
    "             ])\n",
    "\n",
    "params = {'model__C': [0.01, 0.1, 1, 10], 'pca__n_components': [1, 2, 3, 4, 5, 6, 7, 8, 9, 10]}\n",
    "\n",
    "grid_search = GridSearchCV(p, param_grid=params, scoring= 'accuracy', cv=10, refit=True)\n",
    "grid_search = grid_search.fit(X_train, y_training)\n",
    "grid_search.best_estimator_\n"
   ],
   "outputs": [
    {
     "output_type": "execute_result",
     "data": {
      "text/plain": [
       "Pipeline(steps=[('scaling', StandardScaler()), ('pca', PCA(n_components=7)),\n",
       "                ('model', LogisticRegression(C=0.1))])"
      ]
     },
     "metadata": {},
     "execution_count": 23
    }
   ],
   "metadata": {}
  },
  {
   "cell_type": "code",
   "execution_count": 24,
   "source": [
    "y_hat = grid_search.predict(X_test)"
   ],
   "outputs": [],
   "metadata": {}
  },
  {
   "cell_type": "code",
   "execution_count": 25,
   "source": [
    "gcv_results = GridSearchCV(estimator=p, \n",
    "                           param_grid=params, refit=True)\n",
    "gcv_results = gcv_results.fit(X_train, y_training)\n",
    "\n",
    "y_testp = gcv_results.predict(X_test)\n",
    "y_testp_dt = gcv_results.predict_proba(X_test)\n",
    "\n",
    "from sklearn.metrics import classification_report\n",
    "print(classification_report(y_test, y_testp))"
   ],
   "outputs": [
    {
     "output_type": "stream",
     "name": "stdout",
     "text": [
      "              precision    recall  f1-score   support\n",
      "\n",
      "         0.0       0.69      0.71      0.70       149\n",
      "         1.0       0.64      0.56      0.60        73\n",
      "         2.0       0.57      0.60      0.59        78\n",
      "\n",
      "    accuracy                           0.65       300\n",
      "   macro avg       0.63      0.63      0.63       300\n",
      "weighted avg       0.65      0.65      0.65       300\n",
      "\n"
     ]
    }
   ],
   "metadata": {}
  },
  {
   "cell_type": "markdown",
   "source": [
    "> In this model we have used PCA with Logistic Regression the results are not better than the Logistic Regression model without PCA. There is difference of 0.04 in accuracy. In PCA with multiple components the model performed best with component value 7. "
   ],
   "metadata": {}
  },
  {
   "cell_type": "markdown",
   "source": [
    "# Question 5"
   ],
   "metadata": {}
  },
  {
   "cell_type": "markdown",
   "source": [
    "- Without using PCA, create a decision tree model using best practices discussed in class.  \n",
    "- Which model performs the best on the training data? Explain your results in the markdown cells.  \n",
    "- What is the accuracy, precision, and recall for the test data?  \n",
    "- Does this perform better than either of the logistic regression models?"
   ],
   "metadata": {}
  },
  {
   "cell_type": "code",
   "execution_count": 26,
   "source": [
    "# Insert code here\n",
    "from sklearn.tree import DecisionTreeClassifier\n",
    "\n",
    "p = Pipeline([('scaling', StandardScaler()), \n",
    "              ('dt', DecisionTreeClassifier())\n",
    "             ])\n",
    "\n",
    "m=p.fit(X_train, y_training)\n",
    "y_hat = m.predict(X_test)\n"
   ],
   "outputs": [],
   "metadata": {}
  },
  {
   "cell_type": "code",
   "execution_count": 27,
   "source": [
    "from sklearn.metrics import classification_report\n",
    "print(classification_report(y_test, y_hat))"
   ],
   "outputs": [
    {
     "output_type": "stream",
     "name": "stdout",
     "text": [
      "              precision    recall  f1-score   support\n",
      "\n",
      "         0.0       0.78      0.74      0.76       149\n",
      "         1.0       0.71      0.67      0.69        73\n",
      "         2.0       0.69      0.79      0.74        78\n",
      "\n",
      "    accuracy                           0.74       300\n",
      "   macro avg       0.73      0.73      0.73       300\n",
      "weighted avg       0.74      0.74      0.74       300\n",
      "\n"
     ]
    }
   ],
   "metadata": {}
  },
  {
   "cell_type": "markdown",
   "source": [
    "> So far Decision tree classifier without PCA has a better accuracy than other models disscussed above with accuracy of 0.74. Also the precision and recall values are higher for this model."
   ],
   "metadata": {}
  },
  {
   "cell_type": "markdown",
   "source": [
    "# Question 6\n",
    "- Repeat `Question 5` but use PCA.  \n",
    "- Does this perform better than the original Decision Tree or the logistic regression models?"
   ],
   "metadata": {}
  },
  {
   "cell_type": "code",
   "execution_count": 28,
   "source": [
    "# Insert code here\n",
    "from sklearn.model_selection import train_test_split\n",
    "from sklearn.tree import DecisionTreeClassifier\n",
    "\n",
    "\n",
    "from sklearn.pipeline import Pipeline\n",
    "from sklearn.preprocessing import StandardScaler\n",
    "from sklearn.linear_model import LogisticRegression\n",
    "from sklearn.model_selection import GridSearchCV\n",
    "from sklearn.decomposition import PCA\n",
    "\n",
    "p = Pipeline([('scaling', StandardScaler()), \n",
    "              ('pca', PCA()),\n",
    "              ('dt', DecisionTreeClassifier())\n",
    "             ])\n",
    "\n",
    "params = { 'pca__n_components': [1, 2, 3, 4, 5, 6, 7, 8, 9, 10]}\n",
    "\n",
    "grid_search = GridSearchCV(p, param_grid=params, scoring= 'accuracy', cv=10, refit=True)\n",
    "grid_search = grid_search.fit(X_train, y_training)\n",
    "grid_search.best_estimator_"
   ],
   "outputs": [
    {
     "output_type": "execute_result",
     "data": {
      "text/plain": [
       "Pipeline(steps=[('scaling', StandardScaler()), ('pca', PCA(n_components=6)),\n",
       "                ('dt', DecisionTreeClassifier())])"
      ]
     },
     "metadata": {},
     "execution_count": 28
    }
   ],
   "metadata": {}
  },
  {
   "cell_type": "code",
   "execution_count": 30,
   "source": [
    "y_hat = grid_search.predict(X_test)"
   ],
   "outputs": [],
   "metadata": {}
  },
  {
   "cell_type": "code",
   "execution_count": 31,
   "source": [
    "gcv_results = GridSearchCV(estimator=p, \n",
    "                           param_grid=params, refit=True)\n",
    "gcv_results = gcv_results.fit(X_train, y_training)\n",
    "\n",
    "y_testp = gcv_results.predict(X_test)\n",
    "y_testp_dt = gcv_results.predict_proba(X_test)\n",
    "\n",
    "from sklearn.metrics import classification_report\n",
    "print(classification_report(y_test, y_testp))"
   ],
   "outputs": [
    {
     "output_type": "stream",
     "name": "stdout",
     "text": [
      "              precision    recall  f1-score   support\n",
      "\n",
      "         0.0       0.71      0.67      0.69       149\n",
      "         1.0       0.53      0.58      0.55        73\n",
      "         2.0       0.62      0.64      0.63        78\n",
      "\n",
      "    accuracy                           0.64       300\n",
      "   macro avg       0.62      0.63      0.63       300\n",
      "weighted avg       0.64      0.64      0.64       300\n",
      "\n"
     ]
    }
   ],
   "metadata": {}
  },
  {
   "cell_type": "markdown",
   "source": [
    "> For decision tree classifier models performance is best with component value 6. This model has accuracy of 0.64 however the accuracy of the Decision tree without PCA is still better. Even the logistic regression with and without PCA also has slightly better accuracy than the decision tree with PCA model. Overall Decision tree classifier without PCA has better performance amongst all."
   ],
   "metadata": {}
  },
  {
   "cell_type": "code",
   "execution_count": null,
   "source": [],
   "outputs": [],
   "metadata": {}
  }
 ],
 "metadata": {
  "kernelspec": {
   "display_name": "Python 3 (ipykernel)",
   "language": "python",
   "name": "python3"
  },
  "language_info": {
   "codemirror_mode": {
    "name": "ipython",
    "version": 3
   },
   "file_extension": ".py",
   "mimetype": "text/x-python",
   "name": "python",
   "nbconvert_exporter": "python",
   "pygments_lexer": "ipython3",
   "version": "3.8.10"
  }
 },
 "nbformat": 4,
 "nbformat_minor": 4
}