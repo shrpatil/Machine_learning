{
 "cells": [
  {
   "cell_type": "code",
   "execution_count": 1,
   "source": [
    "import pandas as pd\n",
    "import numpy as np\n",
    "import matplotlib.pyplot as plt\n",
    "\n",
    "df = pd.read_csv('clustering-data.csv')\n",
    "df.head(10)"
   ],
   "outputs": [
    {
     "output_type": "execute_result",
     "data": {
      "text/html": [
       "<div>\n",
       "<style scoped>\n",
       "    .dataframe tbody tr th:only-of-type {\n",
       "        vertical-align: middle;\n",
       "    }\n",
       "\n",
       "    .dataframe tbody tr th {\n",
       "        vertical-align: top;\n",
       "    }\n",
       "\n",
       "    .dataframe thead th {\n",
       "        text-align: right;\n",
       "    }\n",
       "</style>\n",
       "<table border=\"1\" class=\"dataframe\">\n",
       "  <thead>\n",
       "    <tr style=\"text-align: right;\">\n",
       "      <th></th>\n",
       "      <th>var0</th>\n",
       "      <th>var1</th>\n",
       "      <th>var2</th>\n",
       "      <th>var3</th>\n",
       "      <th>var4</th>\n",
       "      <th>var5</th>\n",
       "      <th>var6</th>\n",
       "      <th>var7</th>\n",
       "      <th>var8</th>\n",
       "      <th>var9</th>\n",
       "      <th>...</th>\n",
       "      <th>var41</th>\n",
       "      <th>var42</th>\n",
       "      <th>var43</th>\n",
       "      <th>var44</th>\n",
       "      <th>var45</th>\n",
       "      <th>var46</th>\n",
       "      <th>var47</th>\n",
       "      <th>var48</th>\n",
       "      <th>var49</th>\n",
       "      <th>target</th>\n",
       "    </tr>\n",
       "  </thead>\n",
       "  <tbody>\n",
       "    <tr>\n",
       "      <th>0</th>\n",
       "      <td>a</td>\n",
       "      <td>d</td>\n",
       "      <td>g</td>\n",
       "      <td>-0.396805</td>\n",
       "      <td>0.678895</td>\n",
       "      <td>0.726830</td>\n",
       "      <td>-0.640008</td>\n",
       "      <td>-1.039820</td>\n",
       "      <td>-0.934986</td>\n",
       "      <td>-0.098290</td>\n",
       "      <td>...</td>\n",
       "      <td>-0.268735</td>\n",
       "      <td>0.070548</td>\n",
       "      <td>0.808570</td>\n",
       "      <td>1.523755</td>\n",
       "      <td>-0.497207</td>\n",
       "      <td>0.470146</td>\n",
       "      <td>1.095665</td>\n",
       "      <td>-0.339445</td>\n",
       "      <td>0.470146</td>\n",
       "      <td>1.0</td>\n",
       "    </tr>\n",
       "    <tr>\n",
       "      <th>1</th>\n",
       "      <td>a</td>\n",
       "      <td>d</td>\n",
       "      <td>i</td>\n",
       "      <td>-0.991416</td>\n",
       "      <td>2.359730</td>\n",
       "      <td>-0.993249</td>\n",
       "      <td>-2.486560</td>\n",
       "      <td>-3.793524</td>\n",
       "      <td>-3.316669</td>\n",
       "      <td>-0.456288</td>\n",
       "      <td>...</td>\n",
       "      <td>0.500165</td>\n",
       "      <td>0.348498</td>\n",
       "      <td>3.031635</td>\n",
       "      <td>-0.996257</td>\n",
       "      <td>-1.832063</td>\n",
       "      <td>1.907786</td>\n",
       "      <td>4.046193</td>\n",
       "      <td>-1.076047</td>\n",
       "      <td>1.907786</td>\n",
       "      <td>0.0</td>\n",
       "    </tr>\n",
       "    <tr>\n",
       "      <th>2</th>\n",
       "      <td>a</td>\n",
       "      <td>d</td>\n",
       "      <td>g</td>\n",
       "      <td>-2.075731</td>\n",
       "      <td>0.544290</td>\n",
       "      <td>-0.854121</td>\n",
       "      <td>-0.615142</td>\n",
       "      <td>-0.903471</td>\n",
       "      <td>-0.775623</td>\n",
       "      <td>-0.123449</td>\n",
       "      <td>...</td>\n",
       "      <td>0.207872</td>\n",
       "      <td>0.096783</td>\n",
       "      <td>0.734387</td>\n",
       "      <td>0.564490</td>\n",
       "      <td>-0.439069</td>\n",
       "      <td>0.483492</td>\n",
       "      <td>0.971048</td>\n",
       "      <td>-0.231717</td>\n",
       "      <td>0.483492</td>\n",
       "      <td>0.0</td>\n",
       "    </tr>\n",
       "    <tr>\n",
       "      <th>3</th>\n",
       "      <td>b</td>\n",
       "      <td>e</td>\n",
       "      <td>i</td>\n",
       "      <td>0.330885</td>\n",
       "      <td>1.100425</td>\n",
       "      <td>1.468506</td>\n",
       "      <td>0.456396</td>\n",
       "      <td>-0.663287</td>\n",
       "      <td>-1.134611</td>\n",
       "      <td>0.494358</td>\n",
       "      <td>...</td>\n",
       "      <td>0.963910</td>\n",
       "      <td>-0.474539</td>\n",
       "      <td>0.049557</td>\n",
       "      <td>-0.169026</td>\n",
       "      <td>-0.213812</td>\n",
       "      <td>-0.798086</td>\n",
       "      <td>0.419922</td>\n",
       "      <td>-1.142086</td>\n",
       "      <td>-0.798086</td>\n",
       "      <td>1.0</td>\n",
       "    </tr>\n",
       "    <tr>\n",
       "      <th>4</th>\n",
       "      <td>a</td>\n",
       "      <td>d</td>\n",
       "      <td>h</td>\n",
       "      <td>2.245218</td>\n",
       "      <td>1.039071</td>\n",
       "      <td>0.481155</td>\n",
       "      <td>-1.373746</td>\n",
       "      <td>-1.861215</td>\n",
       "      <td>-1.531545</td>\n",
       "      <td>-0.322933</td>\n",
       "      <td>...</td>\n",
       "      <td>0.040232</td>\n",
       "      <td>0.263376</td>\n",
       "      <td>1.570320</td>\n",
       "      <td>0.212608</td>\n",
       "      <td>-0.917244</td>\n",
       "      <td>1.131278</td>\n",
       "      <td>2.034796</td>\n",
       "      <td>-0.363342</td>\n",
       "      <td>1.131278</td>\n",
       "      <td>0.0</td>\n",
       "    </tr>\n",
       "    <tr>\n",
       "      <th>5</th>\n",
       "      <td>a</td>\n",
       "      <td>d</td>\n",
       "      <td>h</td>\n",
       "      <td>-0.363289</td>\n",
       "      <td>1.299002</td>\n",
       "      <td>0.104014</td>\n",
       "      <td>-1.751211</td>\n",
       "      <td>-2.349948</td>\n",
       "      <td>-1.923294</td>\n",
       "      <td>-0.418514</td>\n",
       "      <td>...</td>\n",
       "      <td>-0.706863</td>\n",
       "      <td>0.342592</td>\n",
       "      <td>1.991692</td>\n",
       "      <td>-0.836287</td>\n",
       "      <td>-1.160102</td>\n",
       "      <td>1.449591</td>\n",
       "      <td>2.574510</td>\n",
       "      <td>-0.440837</td>\n",
       "      <td>1.449591</td>\n",
       "      <td>0.0</td>\n",
       "    </tr>\n",
       "    <tr>\n",
       "      <th>6</th>\n",
       "      <td>c</td>\n",
       "      <td>f</td>\n",
       "      <td>i</td>\n",
       "      <td>-0.410877</td>\n",
       "      <td>1.039321</td>\n",
       "      <td>0.315178</td>\n",
       "      <td>1.509918</td>\n",
       "      <td>0.111786</td>\n",
       "      <td>-0.796499</td>\n",
       "      <td>0.939016</td>\n",
       "      <td>...</td>\n",
       "      <td>1.708404</td>\n",
       "      <td>-0.873505</td>\n",
       "      <td>-0.863975</td>\n",
       "      <td>0.271783</td>\n",
       "      <td>0.225705</td>\n",
       "      <td>-1.880563</td>\n",
       "      <td>-0.582780</td>\n",
       "      <td>-1.506143</td>\n",
       "      <td>-1.880563</td>\n",
       "      <td>1.0</td>\n",
       "    </tr>\n",
       "    <tr>\n",
       "      <th>7</th>\n",
       "      <td>c</td>\n",
       "      <td>f</td>\n",
       "      <td>g</td>\n",
       "      <td>1.297811</td>\n",
       "      <td>1.028758</td>\n",
       "      <td>-1.102570</td>\n",
       "      <td>1.114708</td>\n",
       "      <td>-0.149282</td>\n",
       "      <td>-0.885268</td>\n",
       "      <td>0.763245</td>\n",
       "      <td>...</td>\n",
       "      <td>-0.158692</td>\n",
       "      <td>-0.714875</td>\n",
       "      <td>-0.534512</td>\n",
       "      <td>-0.868953</td>\n",
       "      <td>0.072839</td>\n",
       "      <td>-1.464710</td>\n",
       "      <td>-0.232019</td>\n",
       "      <td>-1.340323</td>\n",
       "      <td>-1.464710</td>\n",
       "      <td>1.0</td>\n",
       "    </tr>\n",
       "    <tr>\n",
       "      <th>8</th>\n",
       "      <td>a</td>\n",
       "      <td>d</td>\n",
       "      <td>h</td>\n",
       "      <td>-0.460268</td>\n",
       "      <td>0.558453</td>\n",
       "      <td>-0.108822</td>\n",
       "      <td>-0.822176</td>\n",
       "      <td>-1.057694</td>\n",
       "      <td>-0.844516</td>\n",
       "      <td>-0.210255</td>\n",
       "      <td>...</td>\n",
       "      <td>0.482099</td>\n",
       "      <td>0.174609</td>\n",
       "      <td>0.914762</td>\n",
       "      <td>-0.293144</td>\n",
       "      <td>-0.526213</td>\n",
       "      <td>0.695586</td>\n",
       "      <td>1.169728</td>\n",
       "      <td>-0.162056</td>\n",
       "      <td>0.695586</td>\n",
       "      <td>0.0</td>\n",
       "    </tr>\n",
       "    <tr>\n",
       "      <th>9</th>\n",
       "      <td>a</td>\n",
       "      <td>e</td>\n",
       "      <td>g</td>\n",
       "      <td>-1.035275</td>\n",
       "      <td>-0.036491</td>\n",
       "      <td>0.550507</td>\n",
       "      <td>-0.213803</td>\n",
       "      <td>-0.113949</td>\n",
       "      <td>-0.013036</td>\n",
       "      <td>-0.103330</td>\n",
       "      <td>...</td>\n",
       "      <td>-0.850049</td>\n",
       "      <td>0.094056</td>\n",
       "      <td>0.166073</td>\n",
       "      <td>0.047016</td>\n",
       "      <td>-0.071659</td>\n",
       "      <td>0.233959</td>\n",
       "      <td>0.166425</td>\n",
       "      <td>0.116590</td>\n",
       "      <td>0.233959</td>\n",
       "      <td>0.0</td>\n",
       "    </tr>\n",
       "  </tbody>\n",
       "</table>\n",
       "<p>10 rows × 51 columns</p>\n",
       "</div>"
      ],
      "text/plain": [
       "  var0 var1 var2      var3      var4      var5      var6      var7      var8  \\\n",
       "0    a    d    g -0.396805  0.678895  0.726830 -0.640008 -1.039820 -0.934986   \n",
       "1    a    d    i -0.991416  2.359730 -0.993249 -2.486560 -3.793524 -3.316669   \n",
       "2    a    d    g -2.075731  0.544290 -0.854121 -0.615142 -0.903471 -0.775623   \n",
       "3    b    e    i  0.330885  1.100425  1.468506  0.456396 -0.663287 -1.134611   \n",
       "4    a    d    h  2.245218  1.039071  0.481155 -1.373746 -1.861215 -1.531545   \n",
       "5    a    d    h -0.363289  1.299002  0.104014 -1.751211 -2.349948 -1.923294   \n",
       "6    c    f    i -0.410877  1.039321  0.315178  1.509918  0.111786 -0.796499   \n",
       "7    c    f    g  1.297811  1.028758 -1.102570  1.114708 -0.149282 -0.885268   \n",
       "8    a    d    h -0.460268  0.558453 -0.108822 -0.822176 -1.057694 -0.844516   \n",
       "9    a    e    g -1.035275 -0.036491  0.550507 -0.213803 -0.113949 -0.013036   \n",
       "\n",
       "       var9  ...     var41     var42     var43     var44     var45     var46  \\\n",
       "0 -0.098290  ... -0.268735  0.070548  0.808570  1.523755 -0.497207  0.470146   \n",
       "1 -0.456288  ...  0.500165  0.348498  3.031635 -0.996257 -1.832063  1.907786   \n",
       "2 -0.123449  ...  0.207872  0.096783  0.734387  0.564490 -0.439069  0.483492   \n",
       "3  0.494358  ...  0.963910 -0.474539  0.049557 -0.169026 -0.213812 -0.798086   \n",
       "4 -0.322933  ...  0.040232  0.263376  1.570320  0.212608 -0.917244  1.131278   \n",
       "5 -0.418514  ... -0.706863  0.342592  1.991692 -0.836287 -1.160102  1.449591   \n",
       "6  0.939016  ...  1.708404 -0.873505 -0.863975  0.271783  0.225705 -1.880563   \n",
       "7  0.763245  ... -0.158692 -0.714875 -0.534512 -0.868953  0.072839 -1.464710   \n",
       "8 -0.210255  ...  0.482099  0.174609  0.914762 -0.293144 -0.526213  0.695586   \n",
       "9 -0.103330  ... -0.850049  0.094056  0.166073  0.047016 -0.071659  0.233959   \n",
       "\n",
       "      var47     var48     var49  target  \n",
       "0  1.095665 -0.339445  0.470146     1.0  \n",
       "1  4.046193 -1.076047  1.907786     0.0  \n",
       "2  0.971048 -0.231717  0.483492     0.0  \n",
       "3  0.419922 -1.142086 -0.798086     1.0  \n",
       "4  2.034796 -0.363342  1.131278     0.0  \n",
       "5  2.574510 -0.440837  1.449591     0.0  \n",
       "6 -0.582780 -1.506143 -1.880563     1.0  \n",
       "7 -0.232019 -1.340323 -1.464710     1.0  \n",
       "8  1.169728 -0.162056  0.695586     0.0  \n",
       "9  0.166425  0.116590  0.233959     0.0  \n",
       "\n",
       "[10 rows x 51 columns]"
      ]
     },
     "metadata": {},
     "execution_count": 1
    }
   ],
   "metadata": {}
  },
  {
   "cell_type": "code",
   "execution_count": 2,
   "source": [
    "df.info()"
   ],
   "outputs": [
    {
     "output_type": "stream",
     "name": "stdout",
     "text": [
      "<class 'pandas.core.frame.DataFrame'>\n",
      "RangeIndex: 4000 entries, 0 to 3999\n",
      "Data columns (total 51 columns):\n",
      " #   Column  Non-Null Count  Dtype  \n",
      "---  ------  --------------  -----  \n",
      " 0   var0    4000 non-null   object \n",
      " 1   var1    4000 non-null   object \n",
      " 2   var2    4000 non-null   object \n",
      " 3   var3    4000 non-null   float64\n",
      " 4   var4    4000 non-null   float64\n",
      " 5   var5    4000 non-null   float64\n",
      " 6   var6    4000 non-null   float64\n",
      " 7   var7    4000 non-null   float64\n",
      " 8   var8    4000 non-null   float64\n",
      " 9   var9    4000 non-null   float64\n",
      " 10  var10   4000 non-null   float64\n",
      " 11  var11   4000 non-null   float64\n",
      " 12  var12   4000 non-null   float64\n",
      " 13  var13   4000 non-null   float64\n",
      " 14  var14   4000 non-null   float64\n",
      " 15  var15   4000 non-null   float64\n",
      " 16  var16   4000 non-null   float64\n",
      " 17  var17   4000 non-null   float64\n",
      " 18  var18   4000 non-null   float64\n",
      " 19  var19   4000 non-null   float64\n",
      " 20  var20   4000 non-null   float64\n",
      " 21  var21   4000 non-null   float64\n",
      " 22  var22   4000 non-null   float64\n",
      " 23  var23   4000 non-null   float64\n",
      " 24  var24   4000 non-null   float64\n",
      " 25  var25   4000 non-null   float64\n",
      " 26  var26   4000 non-null   float64\n",
      " 27  var27   4000 non-null   float64\n",
      " 28  var28   4000 non-null   float64\n",
      " 29  var29   4000 non-null   float64\n",
      " 30  var30   4000 non-null   float64\n",
      " 31  var31   4000 non-null   float64\n",
      " 32  var32   4000 non-null   float64\n",
      " 33  var33   4000 non-null   float64\n",
      " 34  var34   4000 non-null   float64\n",
      " 35  var35   4000 non-null   float64\n",
      " 36  var36   4000 non-null   float64\n",
      " 37  var37   4000 non-null   float64\n",
      " 38  var38   4000 non-null   float64\n",
      " 39  var39   4000 non-null   float64\n",
      " 40  var40   4000 non-null   float64\n",
      " 41  var41   4000 non-null   float64\n",
      " 42  var42   4000 non-null   float64\n",
      " 43  var43   4000 non-null   float64\n",
      " 44  var44   4000 non-null   float64\n",
      " 45  var45   4000 non-null   float64\n",
      " 46  var46   4000 non-null   float64\n",
      " 47  var47   4000 non-null   float64\n",
      " 48  var48   4000 non-null   float64\n",
      " 49  var49   4000 non-null   float64\n",
      " 50  target  4000 non-null   float64\n",
      "dtypes: float64(48), object(3)\n",
      "memory usage: 1.6+ MB\n"
     ]
    }
   ],
   "metadata": {}
  },
  {
   "cell_type": "markdown",
   "source": [
    "# Data Definitions\n",
    "- `var0` - `var49`: some feature that could be used to describe the `target`.  \n",
    "- `target`: variable that contains the classes. This is your target variable."
   ],
   "metadata": {}
  },
  {
   "cell_type": "code",
   "execution_count": 3,
   "source": [
    "df.target.value_counts().plot.bar()\n",
    "plt.title('Distribution of Target', loc='left')\n",
    "plt.show()"
   ],
   "outputs": [
    {
     "output_type": "display_data",
     "data": {
      "image/png": "[encoded data removed]",
      "text/plain": [
       "<Figure size 432x288 with 1 Axes>"
      ]
     },
     "metadata": {
      "needs_background": "light"
     }
    }
   ],
   "metadata": {}
  },
  {
   "cell_type": "code",
   "execution_count": 4,
   "source": [
    "from sklearn.model_selection import train_test_split\n",
    "X = df[[x for x in df.columns if x != 'target']]\n",
    "y = df['target']\n",
    "\n",
    "X_train, X_test, y_train, y_test = train_test_split(X, y, test_size=0.2, random_state=2303)\n",
    "\n",
    "print(f'Training examples: {X_train.shape[0]}')\n",
    "print(f'Test examples: {X_test.shape[0]}')\n",
    "print('\\nFeature names:')\n",
    "print(*X.columns, sep='\\t')"
   ],
   "outputs": [
    {
     "output_type": "stream",
     "name": "stdout",
     "text": [
      "Training examples: 3200\n",
      "Test examples: 800\n",
      "\n",
      "Feature names:\n",
      "var0\tvar1\tvar2\tvar3\tvar4\tvar5\tvar6\tvar7\tvar8\tvar9\tvar10\tvar11\tvar12\tvar13\tvar14\tvar15\tvar16\tvar17\tvar18\tvar19\tvar20\tvar21\tvar22\tvar23\tvar24\tvar25\tvar26\tvar27\tvar28\tvar29\tvar30\tvar31\tvar32\tvar33\tvar34\tvar35\tvar36\tvar37\tvar38\tvar39\tvar40\tvar41\tvar42\tvar43\tvar44\tvar45\tvar46\tvar47\tvar48\tvar49\n"
     ]
    }
   ],
   "metadata": {}
  },
  {
   "cell_type": "markdown",
   "source": [
    "# Question 1\n",
    "- Using `X_train`, you will perform k-means clustering using best practices.  \n",
    "- Determine what the \"optimum\" number of clusters is - support your answer.  \n",
    "- Visualize the results of your clustering using PCA.\n",
    "- Based on the visualization, how do you interpret the clustering result?"
   ],
   "metadata": {}
  },
  {
   "cell_type": "code",
   "execution_count": 5,
   "source": [
    "df_numerical = X_train.select_dtypes(exclude= \"object\")\n",
    "df_numerical_cols = df_numerical.columns.tolist()\n",
    "df_categorical = X_train.select_dtypes(include='object')\n",
    "df_categorical_cols = df_categorical.columns.tolist()\n",
    "df_categorical_cols"
   ],
   "outputs": [
    {
     "output_type": "execute_result",
     "data": {
      "text/plain": [
       "['var0', 'var1', 'var2']"
      ]
     },
     "metadata": {},
     "execution_count": 5
    }
   ],
   "metadata": {}
  },
  {
   "cell_type": "code",
   "execution_count": 6,
   "source": [
    "# Insert Code\n",
    "from sklearn.pipeline import Pipeline\n",
    "from sklearn.compose import ColumnTransformer\n",
    "from sklearn.impute import SimpleImputer\n",
    "from sklearn.preprocessing import OneHotEncoder\n",
    "from sklearn.preprocessing import StandardScaler\n",
    "\n",
    "\n",
    "num_pipeline = Pipeline([('scale', StandardScaler())])\n",
    "\n",
    "car_pipeline = Pipeline([('create_dummies_cats', OneHotEncoder(handle_unknown='ignore', drop='first'))])\n",
    "\n",
    "processing_pipeline = ColumnTransformer(transformers=[('proc_numeric', num_pipeline, df_numerical_cols),\n",
    "                                                      ('create_dummies', car_pipeline, df_categorical_cols)])\n"
   ],
   "outputs": [],
   "metadata": {}
  },
  {
   "cell_type": "code",
   "execution_count": 7,
   "source": [
    "# Using PCA to reduce the data into 2d format\n",
    "\n",
    "from sklearn.decomposition import PCA\n",
    "\n",
    "pip_2d = Pipeline([('data_processing', processing_pipeline),\n",
    "                   ('pca', PCA(n_components=2))\n",
    "                  ])\n",
    "data_2d = pip_2d.fit_transform(X_train)\n",
    "\n"
   ],
   "outputs": [],
   "metadata": {}
  },
  {
   "cell_type": "code",
   "execution_count": 8,
   "source": [
    "import matplotlib.pyplot as plt\n",
    "%matplotlib inline\n",
    "\n",
    "plt.plot(data_2d[:,0], data_2d[:,1], 'ro', alpha=0.10)\n",
    "plt.title('Data in 2-dimensions before clustering', loc='left')\n",
    "plt.show()"
   ],
   "outputs": [
    {
     "output_type": "display_data",
     "data": {
      "image/png": "[encoded data removed]",
      "text/plain": [
       "<Figure size 432x288 with 1 Axes>"
      ]
     },
     "metadata": {
      "needs_background": "light"
     }
    }
   ],
   "metadata": {}
  },
  {
   "cell_type": "code",
   "execution_count": 9,
   "source": [
    "from sklearn.cluster import KMeans\n",
    "\n",
    "distortions = list()\n",
    "\n",
    "for i in range(1, 15):\n",
    "   \n",
    "    km = KMeans(n_clusters=i, random_state=0)\n",
    "    km = km.fit(data_2d)\n",
    "    distortions.append(km.inertia_)\n",
    "    \n",
    "plt.plot(range(1, 15), distortions, marker='o')\n",
    "plt.xlabel('Number of Clusters')\n",
    "plt.ylabel('Inertia')\n",
    "plt.show()"
   ],
   "outputs": [
    {
     "output_type": "display_data",
     "data": {
      "image/png": "[encoded data removed]",
      "text/plain": [
       "<Figure size 432x288 with 1 Axes>"
      ]
     },
     "metadata": {
      "needs_background": "light"
     }
    }
   ],
   "metadata": {}
  },
  {
   "cell_type": "markdown",
   "source": [
    "Based on the above graph near 5-6 graph kinks."
   ],
   "metadata": {}
  },
  {
   "cell_type": "code",
   "execution_count": 10,
   "source": [
    "from sklearn.cluster import KMeans\n",
    "\n",
    "n = 6\n",
    "\n",
    "km = KMeans(n_clusters=n, random_state=0)\n",
    "km = km.fit(data_2d)\n",
    "pclusters = km.predict(data_2d)\n",
    "\n",
    "for i in range(n):\n",
    "    plt.scatter(data_2d[pclusters==i, 0], data_2d[pclusters==i, 1], alpha=0.25)\n",
    "plt.show()"
   ],
   "outputs": [
    {
     "output_type": "display_data",
     "data": {
      "image/png": "[encoded data removed]",
      "text/plain": [
       "<Figure size 432x288 with 1 Axes>"
      ]
     },
     "metadata": {
      "needs_background": "light"
     }
    }
   ],
   "metadata": {}
  },
  {
   "cell_type": "markdown",
   "source": [
    "From the elbow method graph we got n_clusters= 6 is a optimum value. This graph shows that even though the data points are very close to each other and the overall shape is also a bit weird it has given a fair result. It has some noise but overall all performance is good. "
   ],
   "metadata": {}
  },
  {
   "cell_type": "markdown",
   "source": [
    "# Question 2\n",
    "- Using `X_train` and `y_train`, create a logistic regression model. Then evaluate the performance on the test data. The only preprocessing steps you should include are scaling and one hot encoding.    \n",
    "- Using cross-validation and grid search on the regularization strength using best practices.\n",
    "- Provide a ROC chart and provide accuracy, precision, and recall.  \n",
    "- What is your opinion of the model's performance?"
   ],
   "metadata": {}
  },
  {
   "cell_type": "code",
   "execution_count": 11,
   "source": [
    "# Insert Code\n",
    "\n",
    "from sklearn.linear_model import LogisticRegression\n",
    "\n",
    "num_pipeline = Pipeline([('scale', StandardScaler())])\n",
    "\n",
    "car_pipeline = Pipeline([('create_dummies_cats', OneHotEncoder(handle_unknown='ignore', drop='first'))])\n",
    "\n",
    "processing_pipeline = ColumnTransformer(transformers=[('proc_numeric', num_pipeline, df_numerical_cols),\n",
    "                                                      ('create_dummies', car_pipeline, df_categorical_cols)])\n",
    "modeling_pipeline = Pipeline([('data_processing', processing_pipeline),\n",
    "        ('logreg', LogisticRegression(penalty='none'))])"
   ],
   "outputs": [],
   "metadata": {}
  },
  {
   "cell_type": "code",
   "execution_count": 12,
   "source": [
    "import warnings\n",
    "warnings.filterwarnings('ignore')"
   ],
   "outputs": [],
   "metadata": {}
  },
  {
   "cell_type": "code",
   "execution_count": 13,
   "source": [
    "from sklearn.model_selection import GridSearchCV\n",
    "import time\n",
    "start = time.process_time()\n",
    "# your code here    \n",
    "\n",
    "param_grid = [{'logreg__class_weight': [None, 'balanced'], 'logreg__C':[0.001,0.01, 0.1, 10.0,100]}]\n",
    "\n",
    "gcv_results = GridSearchCV(estimator=modeling_pipeline, \n",
    "                           param_grid=param_grid, refit=True, cv=15)\n",
    "gcv_results = gcv_results.fit(X_train, y_train)\n",
    "print(time.process_time() - start)\n"
   ],
   "outputs": [
    {
     "output_type": "stream",
     "name": "stdout",
     "text": [
      "51.337835\n"
     ]
    }
   ],
   "metadata": {}
  },
  {
   "cell_type": "code",
   "execution_count": 14,
   "source": [
    "gcv_results.best_estimator_"
   ],
   "outputs": [
    {
     "output_type": "execute_result",
     "data": {
      "text/plain": [
       "Pipeline(steps=[('data_processing',\n",
       "                 ColumnTransformer(transformers=[('proc_numeric',\n",
       "                                                  Pipeline(steps=[('scale',\n",
       "                                                                   StandardScaler())]),\n",
       "                                                  ['var3', 'var4', 'var5',\n",
       "                                                   'var6', 'var7', 'var8',\n",
       "                                                   'var9', 'var10', 'var11',\n",
       "                                                   'var12', 'var13', 'var14',\n",
       "                                                   'var15', 'var16', 'var17',\n",
       "                                                   'var18', 'var19', 'var20',\n",
       "                                                   'var21', 'var22', 'var23',\n",
       "                                                   'var24', 'var25', 'var26',\n",
       "                                                   'var27', 'var28', 'var29',\n",
       "                                                   'var30', 'var31', 'var32', ...]),\n",
       "                                                 ('create_dummies',\n",
       "                                                  Pipeline(steps=[('create_dummies_cats',\n",
       "                                                                   OneHotEncoder(drop='first',\n",
       "                                                                                 handle_unknown='ignore'))]),\n",
       "                                                  ['var0', 'var1', 'var2'])])),\n",
       "                ('logreg',\n",
       "                 LogisticRegression(C=0.001, class_weight='balanced',\n",
       "                                    penalty='none'))])"
      ]
     },
     "metadata": {},
     "execution_count": 14
    }
   ],
   "metadata": {}
  },
  {
   "cell_type": "code",
   "execution_count": 15,
   "source": [
    "y_testp = gcv_results.predict(X_test)\n",
    "\n",
    "\n",
    "from sklearn.metrics import classification_report\n",
    "print(classification_report(y_test, y_testp))"
   ],
   "outputs": [
    {
     "output_type": "stream",
     "name": "stdout",
     "text": [
      "              precision    recall  f1-score   support\n",
      "\n",
      "         0.0       0.87      0.99      0.93       394\n",
      "         1.0       0.99      0.86      0.92       406\n",
      "\n",
      "    accuracy                           0.93       800\n",
      "   macro avg       0.93      0.93      0.92       800\n",
      "weighted avg       0.93      0.93      0.92       800\n",
      "\n"
     ]
    }
   ],
   "metadata": {}
  },
  {
   "cell_type": "code",
   "execution_count": 16,
   "source": [
    "\n",
    "from sklearn.metrics import roc_curve\n",
    "\n",
    "def probs(X, model=gcv_results):\n",
    "    return model.predict_proba(X)[:, 1]\n",
    "\n",
    "def generate_roc(y_test, y_testp):\n",
    "    fpr, tpr,_ = roc_curve(y_test, y_testp)\n",
    "    return fpr, tpr\n",
    "    \n",
    "fpr_test, tpr_test = generate_roc(y_test, probs(X_test))\n",
    "fpr_train, tpr_train = generate_roc(y_train, probs(X_train))\n",
    "\n",
    "plt.plot(fpr_test, tpr_test,'-r')\n",
    "plt.plot(fpr_train, tpr_train,'-b')\n",
    "plt.plot([0, 0], [1, 0] , c=\".7\"), plt.plot([1, 1] , c=\".7\")\n",
    "plt.xlabel('False Positive Rate')\n",
    "plt.ylabel('True Positive Rate')\n",
    "plt.legend(['Test','Training'])\n",
    "plt.title('ROC for Logistic Regression')\n",
    "plt.plot([0, 1], [0, 1], color='navy', linestyle='--')\n",
    "plt.show()"
   ],
   "outputs": [
    {
     "output_type": "display_data",
     "data": {
      "image/png": "[encoded data removed]",
      "text/plain": [
       "<Figure size 432x288 with 1 Axes>"
      ]
     },
     "metadata": {
      "needs_background": "light"
     }
    }
   ],
   "metadata": {}
  },
  {
   "cell_type": "markdown",
   "source": [
    "If we use GridsearchCV on the logistic regression model it has given the best model with hyperparameter value C=0.001. Performance of the model is good with precision-0.87, recall- 0.99 and accuracy 0.93. The ROC curve for test data is very close to the training data values so models overall performance is reasonable. "
   ],
   "metadata": {}
  },
  {
   "cell_type": "markdown",
   "source": [
    "# Question 3\n",
    "- Using `X_train` and `y_train`, create a logistic regression model, that includes a pipeline step that uses PCA.  \n",
    "- Perform a grid search on various number of components and regularization strengths using best practices.\n",
    "- Provide a ROC chart and provide accuracy, precision, and recall.  \n",
    "- What is your opinion of the model's performance?"
   ],
   "metadata": {}
  },
  {
   "cell_type": "code",
   "execution_count": 17,
   "source": [
    "from sklearn.preprocessing import StandardScaler\n",
    "\n",
    "\n",
    "X_train_std = processing_pipeline.fit_transform(X_train)\n",
    "\n",
    "X_test_std  = processing_pipeline.fit_transform(X_test)\n",
    "\n",
    "\n"
   ],
   "outputs": [],
   "metadata": {}
  },
  {
   "cell_type": "code",
   "execution_count": 18,
   "source": [
    "p = Pipeline([('data_processing', processing_pipeline), \n",
    "              ('pca', PCA()),\n",
    "              ('model', LogisticRegression())\n",
    "             ])\n",
    "\n",
    "\n",
    "start = time.process_time()\n",
    "   \n",
    "\n",
    "params = {'model__C': [0.01, 0.1, 1,10], 'pca__n_components': [1, 2, 3, 4, 5, 6, 7, 8, 9, 10]}\n",
    "\n",
    "grid_search_pca = GridSearchCV(p, param_grid=params, scoring= 'accuracy', cv=10, refit=True)\n",
    "grid_search_pca = grid_search_pca.fit(X_train, y_train)\n",
    "print(time.process_time() - start)\n"
   ],
   "outputs": [
    {
     "output_type": "stream",
     "name": "stdout",
     "text": [
      "54.89021699999999\n"
     ]
    }
   ],
   "metadata": {}
  },
  {
   "cell_type": "code",
   "execution_count": 19,
   "source": [
    "grid_search_pca.best_estimator_"
   ],
   "outputs": [
    {
     "output_type": "execute_result",
     "data": {
      "text/plain": [
       "Pipeline(steps=[('data_processing',\n",
       "                 ColumnTransformer(transformers=[('proc_numeric',\n",
       "                                                  Pipeline(steps=[('scale',\n",
       "                                                                   StandardScaler())]),\n",
       "                                                  ['var3', 'var4', 'var5',\n",
       "                                                   'var6', 'var7', 'var8',\n",
       "                                                   'var9', 'var10', 'var11',\n",
       "                                                   'var12', 'var13', 'var14',\n",
       "                                                   'var15', 'var16', 'var17',\n",
       "                                                   'var18', 'var19', 'var20',\n",
       "                                                   'var21', 'var22', 'var23',\n",
       "                                                   'var24', 'var25', 'var26',\n",
       "                                                   'var27', 'var28', 'var29',\n",
       "                                                   'var30', 'var31', 'var32', ...]),\n",
       "                                                 ('create_dummies',\n",
       "                                                  Pipeline(steps=[('create_dummies_cats',\n",
       "                                                                   OneHotEncoder(drop='first',\n",
       "                                                                                 handle_unknown='ignore'))]),\n",
       "                                                  ['var0', 'var1', 'var2'])])),\n",
       "                ('pca', PCA(n_components=5)),\n",
       "                ('model', LogisticRegression(C=10))])"
      ]
     },
     "metadata": {},
     "execution_count": 19
    }
   ],
   "metadata": {}
  },
  {
   "cell_type": "code",
   "execution_count": 20,
   "source": [
    "\n",
    "y_testp_pca = grid_search_pca.predict(X_test)"
   ],
   "outputs": [],
   "metadata": {}
  },
  {
   "cell_type": "code",
   "execution_count": 21,
   "source": [
    "print(classification_report(y_test, y_testp_pca))"
   ],
   "outputs": [
    {
     "output_type": "stream",
     "name": "stdout",
     "text": [
      "              precision    recall  f1-score   support\n",
      "\n",
      "         0.0       0.88      0.99      0.93       394\n",
      "         1.0       0.99      0.87      0.93       406\n",
      "\n",
      "    accuracy                           0.93       800\n",
      "   macro avg       0.94      0.93      0.93       800\n",
      "weighted avg       0.94      0.93      0.93       800\n",
      "\n"
     ]
    }
   ],
   "metadata": {}
  },
  {
   "cell_type": "code",
   "execution_count": 22,
   "source": [
    "\n",
    "from sklearn.metrics import roc_curve\n",
    "\n",
    "def probs(X, model=grid_search_pca):\n",
    "    return model.predict_proba(X)[:, 1]\n",
    "\n",
    "def generate_roc(y_test, y_testp_pca):\n",
    "    fpr, tpr,_ = roc_curve(y_test, y_testp_pca)\n",
    "    return fpr, tpr\n",
    "    \n",
    "fpr_test_pca, tpr_test_pca = generate_roc(y_test, probs(X_test))\n",
    "fpr_train_pca, tpr_train_pca = generate_roc(y_train, probs(X_train))\n",
    "\n",
    "plt.plot(fpr_test_pca, tpr_test_pca,'-r')\n",
    "plt.plot(fpr_train_pca, tpr_train_pca,'-b')\n",
    "plt.plot([0, 0], [1, 0] , c=\".7\"), plt.plot([1, 1] , c=\".7\")\n",
    "plt.xlabel('False Positive Rate')\n",
    "plt.ylabel('True Positive Rate')\n",
    "plt.legend(['Test','Training'])\n",
    "plt.title('ROC for Logistic Regression with PCA')\n",
    "plt.plot([0, 1], [0, 1], color='navy', linestyle='--')\n",
    "plt.show()"
   ],
   "outputs": [
    {
     "output_type": "display_data",
     "data": {
      "image/png": "[encoded data removed]",
      "text/plain": [
       "<Figure size 432x288 with 1 Axes>"
      ]
     },
     "metadata": {
      "needs_background": "light"
     }
    }
   ],
   "metadata": {}
  },
  {
   "cell_type": "markdown",
   "source": [
    "In this model we have added PCA as a preprocessing step in the pipeline and we have used GridSearchCV to find the optimum number of components we want to reduce our data to. This gave n-component =6 and value C=10 for the model. This model performed slightly better with precision value 0.88."
   ],
   "metadata": {}
  },
  {
   "cell_type": "markdown",
   "source": [
    "# Question 4\n",
    "- Using `X_train` and `y_train`, create a logistic regression model, that includes a pipeline step that uses k-means clustering as a processing step.  \n",
    "- Use grid search and evaluate multiple cluster numbers and regularization strengths using best practices.\n",
    "- Provide a ROC chart and provide accuracy, precision, and recall.  \n",
    "- What is your opinion of the model's performance?"
   ],
   "metadata": {}
  },
  {
   "cell_type": "code",
   "execution_count": 23,
   "source": [
    "p = Pipeline([('data_processing', processing_pipeline),\n",
    "             ('kmeans', KMeans()),\n",
    "              ('logreg', LogisticRegression(penalty='none'))])"
   ],
   "outputs": [],
   "metadata": {}
  },
  {
   "cell_type": "code",
   "execution_count": 24,
   "source": [
    "import time\n",
    "start = time.process_time()\n",
    "# your code here    \n",
    "\n",
    "params = {'logreg__C': [0.01, 0.1, 1, 10], 'kmeans__n_clusters': [1, 2, 3, 4, 5, 6, 7, 8, 9, 10]}\n",
    "\n",
    "grid_search_kmeans = GridSearchCV(p, param_grid=params, scoring= 'accuracy', cv=10, refit=True)\n",
    "grid_search_kmeans = grid_search_kmeans.fit(X_train, y_train)\n",
    "\n",
    "print('time:',time.process_time() - start)\n"
   ],
   "outputs": [
    {
     "output_type": "stream",
     "name": "stdout",
     "text": [
      "time: 349.163136\n"
     ]
    }
   ],
   "metadata": {}
  },
  {
   "cell_type": "code",
   "execution_count": 25,
   "source": [
    "grid_search_kmeans.best_estimator_"
   ],
   "outputs": [
    {
     "output_type": "execute_result",
     "data": {
      "text/plain": [
       "Pipeline(steps=[('data_processing',\n",
       "                 ColumnTransformer(transformers=[('proc_numeric',\n",
       "                                                  Pipeline(steps=[('scale',\n",
       "                                                                   StandardScaler())]),\n",
       "                                                  ['var3', 'var4', 'var5',\n",
       "                                                   'var6', 'var7', 'var8',\n",
       "                                                   'var9', 'var10', 'var11',\n",
       "                                                   'var12', 'var13', 'var14',\n",
       "                                                   'var15', 'var16', 'var17',\n",
       "                                                   'var18', 'var19', 'var20',\n",
       "                                                   'var21', 'var22', 'var23',\n",
       "                                                   'var24', 'var25', 'var26',\n",
       "                                                   'var27', 'var28', 'var29',\n",
       "                                                   'var30', 'var31', 'var32', ...]),\n",
       "                                                 ('create_dummies',\n",
       "                                                  Pipeline(steps=[('create_dummies_cats',\n",
       "                                                                   OneHotEncoder(drop='first',\n",
       "                                                                                 handle_unknown='ignore'))]),\n",
       "                                                  ['var0', 'var1', 'var2'])])),\n",
       "                ('kmeans', KMeans(n_clusters=5)),\n",
       "                ('logreg', LogisticRegression(C=0.1, penalty='none'))])"
      ]
     },
     "metadata": {},
     "execution_count": 25
    }
   ],
   "metadata": {}
  },
  {
   "cell_type": "code",
   "execution_count": 26,
   "source": [
    "y_testp_kmeans = grid_search_kmeans.predict(X_test)"
   ],
   "outputs": [],
   "metadata": {}
  },
  {
   "cell_type": "code",
   "execution_count": 27,
   "source": [
    "print(classification_report(y_test, y_testp_kmeans))"
   ],
   "outputs": [
    {
     "output_type": "stream",
     "name": "stdout",
     "text": [
      "              precision    recall  f1-score   support\n",
      "\n",
      "         0.0       0.91      0.99      0.95       394\n",
      "         1.0       0.99      0.90      0.95       406\n",
      "\n",
      "    accuracy                           0.95       800\n",
      "   macro avg       0.95      0.95      0.95       800\n",
      "weighted avg       0.95      0.95      0.95       800\n",
      "\n"
     ]
    }
   ],
   "metadata": {}
  },
  {
   "cell_type": "code",
   "execution_count": 28,
   "source": [
    "from sklearn.metrics import roc_curve\n",
    "\n",
    "def generate_probs(X, model=grid_search_kmeans):\n",
    "    return model.predict_proba(X)[:, 1]\n",
    "\n",
    "def generate_roc(y_test, y_testp_kmeans):\n",
    "    fpr, tpr,_ = roc_curve(y_test, y_testp_kmeans)\n",
    "    return fpr, tpr\n",
    "    \n",
    "fpr_test_kmeans, tpr_test_kmeans = generate_roc(y_test, generate_probs(X_test))\n",
    "fpr_train_kmeans, tpr_train_kmeans = generate_roc(y_train, generate_probs(X_train))\n",
    "\n",
    "plt.plot(fpr_test_kmeans, tpr_test_kmeans,'-r')\n",
    "plt.plot(fpr_train_kmeans, tpr_train_kmeans,'-b')\n",
    "plt.plot([0, 0], [1, 0] , c=\".7\"), plt.plot([1, 1] , c=\".7\")\n",
    "plt.xlabel('False Positive Rate')\n",
    "plt.ylabel('True Positive Rate')\n",
    "plt.title('ROC for Logistic Regression with K-means')\n",
    "plt.legend(['Test','Training'])\n",
    "plt.plot([0, 1], [0, 1], color='navy', linestyle='--')\n",
    "plt.show()\n"
   ],
   "outputs": [
    {
     "output_type": "display_data",
     "data": {
      "image/png": "[encoded data removed]",
      "text/plain": [
       "<Figure size 432x288 with 1 Axes>"
      ]
     },
     "metadata": {
      "needs_background": "light"
     }
    }
   ],
   "metadata": {}
  },
  {
   "cell_type": "markdown",
   "source": [
    "Compared to the other two models, this model has K-means as a preprocessing step in its pipeline. GridsearchCV has given hyperparameter values as KMeans(n_clusters=6)and C=0.01. It has boosted the accuracy of the model to 0.95 with precision 0.91. So far this is the best performing model amongst all of the other models. "
   ],
   "metadata": {}
  },
  {
   "cell_type": "markdown",
   "source": [
    "# Question 5\n",
    "- Which model, based on the results of `Questions 2-4` would you recommend to use?  \n",
    "- Use as much code as necessary to support your choice."
   ],
   "metadata": {}
  },
  {
   "cell_type": "code",
   "execution_count": 29,
   "source": [
    "plt.plot(fpr_train_kmeans, tpr_train_kmeans,'-y')\n",
    "plt.plot(fpr_test, tpr_test,'-r')\n",
    "plt.plot(fpr_test_pca, tpr_test_pca,'-b')\n",
    "plt.plot(fpr_test_kmeans, tpr_test_kmeans,'-g')\n",
    "\n",
    "plt.plot([0, 0], [1, 0] , c=\".7\"), plt.plot([1, 1] , c=\".7\")\n",
    "plt.xlabel('False Positive Rate')\n",
    "plt.ylabel('True Positive Rate')\n",
    "plt.legend(['Training','LR','LR-PCA','LR-kmeans'])\n",
    "plt.plot([0, 1], [0, 1], color='navy', linestyle='--')\n",
    "plt.show()"
   ],
   "outputs": [
    {
     "output_type": "display_data",
     "data": {
      "image/png": "[encoded data removed]",
      "text/plain": [
       "<Figure size 432x288 with 1 Axes>"
      ]
     },
     "metadata": {
      "needs_background": "light"
     }
    }
   ],
   "metadata": {}
  },
  {
   "cell_type": "markdown",
   "source": [
    "To compare all the models plotted ROC on a single graph. Since the performance difference between each model is very slight these ROC curves are overlapping on each other and not showing much of difference to analyze. \n",
    "\n",
    "Lets try comparing roc_auc_score."
   ],
   "metadata": {}
  },
  {
   "cell_type": "code",
   "execution_count": 30,
   "source": [
    "from sklearn.metrics import roc_curve, roc_auc_score, auc\n",
    "\n",
    "print('roc_auc_score for Logistic Regression: ', roc_auc_score(y_test, y_testp))"
   ],
   "outputs": [
    {
     "output_type": "stream",
     "name": "stdout",
     "text": [
      "roc_auc_score for Logistic Regression:  0.925958340626641\n"
     ]
    }
   ],
   "metadata": {}
  },
  {
   "cell_type": "code",
   "execution_count": 31,
   "source": [
    "\n",
    "print('roc_auc_score for Logistic Regression with PCA: ', roc_auc_score(y_test, y_testp_pca))"
   ],
   "outputs": [
    {
     "output_type": "stream",
     "name": "stdout",
     "text": [
      "roc_auc_score for Logistic Regression with PCA:  0.930921957440424\n"
     ]
    }
   ],
   "metadata": {}
  },
  {
   "cell_type": "code",
   "execution_count": 32,
   "source": [
    "\n",
    "print('roc_auc_score for Logistic Regression with K-means: ', roc_auc_score(y_test, y_testp_kmeans))"
   ],
   "outputs": [
    {
     "output_type": "stream",
     "name": "stdout",
     "text": [
      "roc_auc_score for Logistic Regression with K-means:  0.9482008451901678\n"
     ]
    }
   ],
   "metadata": {}
  },
  {
   "cell_type": "markdown",
   "source": [
    "Based on the score Logistic Regression with K-means as preprocessing step models has the best performance. If we compare precision ,recall and accuracy for all three models, logistic regression and logistic regression with PCA both have 0.87, 0.99 and  0.93 respectively. LR with k-means has precision-0.91, recall- 0.99 and accuracy-0.95 . \n",
    "\n",
    "One important parameter we need to consider in this comparison is the computational time taken by all the models.\n",
    "\n",
    "- LR- 50\n",
    "- LR_PCA- 54\n",
    "- LR_Kmeans- 346\n",
    "\n",
    "Kmeans took 7x more computational time than other two models which increased the accuracy by 0.02 which doesn't seem efficient. Considering all these I would recommend using Logistic regression with PCA as a preprocessing step which gives pretty good results without increasing computational cost.\n"
   ],
   "metadata": {}
  }
 ],
 "metadata": {
  "kernelspec": {
   "display_name": "Python 3 (ipykernel)",
   "language": "python",
   "name": "python3"
  },
  "language_info": {
   "codemirror_mode": {
    "name": "ipython",
    "version": 3
   },
   "file_extension": ".py",
   "mimetype": "text/x-python",
   "name": "python",
   "nbconvert_exporter": "python",
   "pygments_lexer": "ipython3",
   "version": "3.8.10"
  }
 },
 "nbformat": 4,
 "nbformat_minor": 4
}