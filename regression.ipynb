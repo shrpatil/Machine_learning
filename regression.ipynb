{
 "cells": [
  {
   "cell_type": "code",
   "execution_count": 151,
   "source": [
    "import pandas as pd\n",
    "\n",
    "df = pd.read_csv('car-reg-data.csv')\n",
    "df.info()"
   ],
   "outputs": [
    {
     "output_type": "stream",
     "name": "stdout",
     "text": [
      "<class 'pandas.core.frame.DataFrame'>\n",
      "RangeIndex: 9055 entries, 0 to 9054\n",
      "Data columns (total 7 columns):\n",
      " #   Column         Non-Null Count  Dtype  \n",
      "---  ------         --------------  -----  \n",
      " 0   make           8164 non-null   object \n",
      " 1   transmission   8106 non-null   object \n",
      " 2   state          8152 non-null   object \n",
      " 3   condition      8173 non-null   float64\n",
      " 4   odometer       8178 non-null   float64\n",
      " 5   auction_value  8107 non-null   float64\n",
      " 6   selling_price  9055 non-null   float64\n",
      "dtypes: float64(4), object(3)\n",
      "memory usage: 495.3+ KB\n"
     ]
    }
   ],
   "metadata": {
    "scrolled": true
   }
  },
  {
   "cell_type": "code",
   "execution_count": 152,
   "source": [
    "df"
   ],
   "outputs": [
    {
     "output_type": "execute_result",
     "data": {
      "text/html": [
       "<div>\n",
       "<style scoped>\n",
       "    .dataframe tbody tr th:only-of-type {\n",
       "        vertical-align: middle;\n",
       "    }\n",
       "\n",
       "    .dataframe tbody tr th {\n",
       "        vertical-align: top;\n",
       "    }\n",
       "\n",
       "    .dataframe thead th {\n",
       "        text-align: right;\n",
       "    }\n",
       "</style>\n",
       "<table border=\"1\" class=\"dataframe\">\n",
       "  <thead>\n",
       "    <tr style=\"text-align: right;\">\n",
       "      <th></th>\n",
       "      <th>make</th>\n",
       "      <th>transmission</th>\n",
       "      <th>state</th>\n",
       "      <th>condition</th>\n",
       "      <th>odometer</th>\n",
       "      <th>auction_value</th>\n",
       "      <th>selling_price</th>\n",
       "    </tr>\n",
       "  </thead>\n",
       "  <tbody>\n",
       "    <tr>\n",
       "      <th>0</th>\n",
       "      <td>nissan</td>\n",
       "      <td>automatic</td>\n",
       "      <td>md</td>\n",
       "      <td>4.8</td>\n",
       "      <td>NaN</td>\n",
       "      <td>14350.0</td>\n",
       "      <td>13600.0</td>\n",
       "    </tr>\n",
       "    <tr>\n",
       "      <th>1</th>\n",
       "      <td>ford</td>\n",
       "      <td>automatic</td>\n",
       "      <td>mo</td>\n",
       "      <td>3.7</td>\n",
       "      <td>29398.0</td>\n",
       "      <td>17600.0</td>\n",
       "      <td>17100.0</td>\n",
       "    </tr>\n",
       "    <tr>\n",
       "      <th>2</th>\n",
       "      <td>ford</td>\n",
       "      <td>automatic</td>\n",
       "      <td>fl</td>\n",
       "      <td>3.2</td>\n",
       "      <td>32180.0</td>\n",
       "      <td>19100.0</td>\n",
       "      <td>17600.0</td>\n",
       "    </tr>\n",
       "    <tr>\n",
       "      <th>3</th>\n",
       "      <td>nissan</td>\n",
       "      <td>automatic</td>\n",
       "      <td>ca</td>\n",
       "      <td>NaN</td>\n",
       "      <td>30798.0</td>\n",
       "      <td>11950.0</td>\n",
       "      <td>10700.0</td>\n",
       "    </tr>\n",
       "    <tr>\n",
       "      <th>4</th>\n",
       "      <td>ford</td>\n",
       "      <td>automatic</td>\n",
       "      <td>nj</td>\n",
       "      <td>2.8</td>\n",
       "      <td>29526.0</td>\n",
       "      <td>28000.0</td>\n",
       "      <td>26100.0</td>\n",
       "    </tr>\n",
       "    <tr>\n",
       "      <th>...</th>\n",
       "      <td>...</td>\n",
       "      <td>...</td>\n",
       "      <td>...</td>\n",
       "      <td>...</td>\n",
       "      <td>...</td>\n",
       "      <td>...</td>\n",
       "      <td>...</td>\n",
       "    </tr>\n",
       "    <tr>\n",
       "      <th>9050</th>\n",
       "      <td>NaN</td>\n",
       "      <td>automatic</td>\n",
       "      <td>il</td>\n",
       "      <td>4.2</td>\n",
       "      <td>41186.0</td>\n",
       "      <td>NaN</td>\n",
       "      <td>11600.0</td>\n",
       "    </tr>\n",
       "    <tr>\n",
       "      <th>9051</th>\n",
       "      <td>ford</td>\n",
       "      <td>automatic</td>\n",
       "      <td>fl</td>\n",
       "      <td>NaN</td>\n",
       "      <td>38810.0</td>\n",
       "      <td>16250.0</td>\n",
       "      <td>17300.0</td>\n",
       "    </tr>\n",
       "    <tr>\n",
       "      <th>9052</th>\n",
       "      <td>nissan</td>\n",
       "      <td>NaN</td>\n",
       "      <td>ga</td>\n",
       "      <td>4.7</td>\n",
       "      <td>4551.0</td>\n",
       "      <td>12500.0</td>\n",
       "      <td>13800.0</td>\n",
       "    </tr>\n",
       "    <tr>\n",
       "      <th>9053</th>\n",
       "      <td>ford</td>\n",
       "      <td>automatic</td>\n",
       "      <td>il</td>\n",
       "      <td>4.6</td>\n",
       "      <td>33114.0</td>\n",
       "      <td>21800.0</td>\n",
       "      <td>27000.0</td>\n",
       "    </tr>\n",
       "    <tr>\n",
       "      <th>9054</th>\n",
       "      <td>ford</td>\n",
       "      <td>automatic</td>\n",
       "      <td>ga</td>\n",
       "      <td>3.7</td>\n",
       "      <td>23776.0</td>\n",
       "      <td>28800.0</td>\n",
       "      <td>29800.0</td>\n",
       "    </tr>\n",
       "  </tbody>\n",
       "</table>\n",
       "<p>9055 rows × 7 columns</p>\n",
       "</div>"
      ],
      "text/plain": [
       "        make transmission state  condition  odometer  auction_value  \\\n",
       "0     nissan    automatic    md        4.8       NaN        14350.0   \n",
       "1       ford    automatic    mo        3.7   29398.0        17600.0   \n",
       "2       ford    automatic    fl        3.2   32180.0        19100.0   \n",
       "3     nissan    automatic    ca        NaN   30798.0        11950.0   \n",
       "4       ford    automatic    nj        2.8   29526.0        28000.0   \n",
       "...      ...          ...   ...        ...       ...            ...   \n",
       "9050     NaN    automatic    il        4.2   41186.0            NaN   \n",
       "9051    ford    automatic    fl        NaN   38810.0        16250.0   \n",
       "9052  nissan          NaN    ga        4.7    4551.0        12500.0   \n",
       "9053    ford    automatic    il        4.6   33114.0        21800.0   \n",
       "9054    ford    automatic    ga        3.7   23776.0        28800.0   \n",
       "\n",
       "      selling_price  \n",
       "0           13600.0  \n",
       "1           17100.0  \n",
       "2           17600.0  \n",
       "3           10700.0  \n",
       "4           26100.0  \n",
       "...             ...  \n",
       "9050        11600.0  \n",
       "9051        17300.0  \n",
       "9052        13800.0  \n",
       "9053        27000.0  \n",
       "9054        29800.0  \n",
       "\n",
       "[9055 rows x 7 columns]"
      ]
     },
     "metadata": {},
     "execution_count": 152
    }
   ],
   "metadata": {}
  },
  {
   "cell_type": "code",
   "execution_count": 153,
   "source": [
    "from sklearn.model_selection import train_test_split\n",
    "features = [x for x in df.columns if x != 'selling_price']\n",
    "\n",
    "X = df[features]\n",
    "y = df['selling_price']\n",
    "\n",
    "X_train, X_test, y_train, y_test = train_test_split(X, y, test_size=0.2, random_state=100)\n",
    "\n",
    "print(f'Records in training data: {X_train.shape[0]:,}')\n",
    "print(f'Records in test data: {X_test.shape[0]:,}')\n",
    "print('\\nFeatures:')\n",
    "print(*X_train.columns, sep='\\n')"
   ],
   "outputs": [
    {
     "output_type": "stream",
     "name": "stdout",
     "text": [
      "Records in training data: 7,244\n",
      "Records in test data: 1,811\n",
      "\n",
      "Features:\n",
      "make\n",
      "transmission\n",
      "state\n",
      "condition\n",
      "odometer\n",
      "auction_value\n"
     ]
    }
   ],
   "metadata": {}
  },
  {
   "cell_type": "markdown",
   "source": [
    "## Question 1: Split the features into two lists, one for the numerical features and another for the categorical features."
   ],
   "metadata": {}
  },
  {
   "cell_type": "code",
   "execution_count": 154,
   "source": [
    "# insert code here\n",
    "X_train"
   ],
   "outputs": [
    {
     "output_type": "execute_result",
     "data": {
      "text/html": [
       "<div>\n",
       "<style scoped>\n",
       "    .dataframe tbody tr th:only-of-type {\n",
       "        vertical-align: middle;\n",
       "    }\n",
       "\n",
       "    .dataframe tbody tr th {\n",
       "        vertical-align: top;\n",
       "    }\n",
       "\n",
       "    .dataframe thead th {\n",
       "        text-align: right;\n",
       "    }\n",
       "</style>\n",
       "<table border=\"1\" class=\"dataframe\">\n",
       "  <thead>\n",
       "    <tr style=\"text-align: right;\">\n",
       "      <th></th>\n",
       "      <th>make</th>\n",
       "      <th>transmission</th>\n",
       "      <th>state</th>\n",
       "      <th>condition</th>\n",
       "      <th>odometer</th>\n",
       "      <th>auction_value</th>\n",
       "    </tr>\n",
       "  </thead>\n",
       "  <tbody>\n",
       "    <tr>\n",
       "      <th>7821</th>\n",
       "      <td>kia</td>\n",
       "      <td>automatic</td>\n",
       "      <td>wi</td>\n",
       "      <td>4.4</td>\n",
       "      <td>NaN</td>\n",
       "      <td>13800.0</td>\n",
       "    </tr>\n",
       "    <tr>\n",
       "      <th>4127</th>\n",
       "      <td>chrysler</td>\n",
       "      <td>automatic</td>\n",
       "      <td>ca</td>\n",
       "      <td>4.3</td>\n",
       "      <td>27368.0</td>\n",
       "      <td>21300.0</td>\n",
       "    </tr>\n",
       "    <tr>\n",
       "      <th>12</th>\n",
       "      <td>ford</td>\n",
       "      <td>automatic</td>\n",
       "      <td>fl</td>\n",
       "      <td>2.8</td>\n",
       "      <td>66470.0</td>\n",
       "      <td>10300.0</td>\n",
       "    </tr>\n",
       "    <tr>\n",
       "      <th>1689</th>\n",
       "      <td>honda</td>\n",
       "      <td>automatic</td>\n",
       "      <td>NaN</td>\n",
       "      <td>3.6</td>\n",
       "      <td>25208.0</td>\n",
       "      <td>12900.0</td>\n",
       "    </tr>\n",
       "    <tr>\n",
       "      <th>726</th>\n",
       "      <td>hyundai</td>\n",
       "      <td>automatic</td>\n",
       "      <td>NaN</td>\n",
       "      <td>3.3</td>\n",
       "      <td>41234.0</td>\n",
       "      <td>11750.0</td>\n",
       "    </tr>\n",
       "    <tr>\n",
       "      <th>...</th>\n",
       "      <td>...</td>\n",
       "      <td>...</td>\n",
       "      <td>...</td>\n",
       "      <td>...</td>\n",
       "      <td>...</td>\n",
       "      <td>...</td>\n",
       "    </tr>\n",
       "    <tr>\n",
       "      <th>350</th>\n",
       "      <td>hyundai</td>\n",
       "      <td>automatic</td>\n",
       "      <td>wi</td>\n",
       "      <td>NaN</td>\n",
       "      <td>49411.0</td>\n",
       "      <td>11650.0</td>\n",
       "    </tr>\n",
       "    <tr>\n",
       "      <th>79</th>\n",
       "      <td>NaN</td>\n",
       "      <td>NaN</td>\n",
       "      <td>NaN</td>\n",
       "      <td>4.3</td>\n",
       "      <td>36731.0</td>\n",
       "      <td>17600.0</td>\n",
       "    </tr>\n",
       "    <tr>\n",
       "      <th>8039</th>\n",
       "      <td>nissan</td>\n",
       "      <td>automatic</td>\n",
       "      <td>oh</td>\n",
       "      <td>4.2</td>\n",
       "      <td>41269.0</td>\n",
       "      <td>11750.0</td>\n",
       "    </tr>\n",
       "    <tr>\n",
       "      <th>6936</th>\n",
       "      <td>dodge</td>\n",
       "      <td>automatic</td>\n",
       "      <td>fl</td>\n",
       "      <td>3.5</td>\n",
       "      <td>53997.0</td>\n",
       "      <td>9550.0</td>\n",
       "    </tr>\n",
       "    <tr>\n",
       "      <th>5640</th>\n",
       "      <td>nissan</td>\n",
       "      <td>automatic</td>\n",
       "      <td>fl</td>\n",
       "      <td>4.4</td>\n",
       "      <td>81086.0</td>\n",
       "      <td>11950.0</td>\n",
       "    </tr>\n",
       "  </tbody>\n",
       "</table>\n",
       "<p>7244 rows × 6 columns</p>\n",
       "</div>"
      ],
      "text/plain": [
       "          make transmission state  condition  odometer  auction_value\n",
       "7821       kia    automatic    wi        4.4       NaN        13800.0\n",
       "4127  chrysler    automatic    ca        4.3   27368.0        21300.0\n",
       "12        ford    automatic    fl        2.8   66470.0        10300.0\n",
       "1689     honda    automatic   NaN        3.6   25208.0        12900.0\n",
       "726    hyundai    automatic   NaN        3.3   41234.0        11750.0\n",
       "...        ...          ...   ...        ...       ...            ...\n",
       "350    hyundai    automatic    wi        NaN   49411.0        11650.0\n",
       "79         NaN          NaN   NaN        4.3   36731.0        17600.0\n",
       "8039    nissan    automatic    oh        4.2   41269.0        11750.0\n",
       "6936     dodge    automatic    fl        3.5   53997.0         9550.0\n",
       "5640    nissan    automatic    fl        4.4   81086.0        11950.0\n",
       "\n",
       "[7244 rows x 6 columns]"
      ]
     },
     "metadata": {},
     "execution_count": 154
    }
   ],
   "metadata": {}
  },
  {
   "cell_type": "code",
   "execution_count": 155,
   "source": [
    "df_numerical = X_train.select_dtypes(exclude= \"object\")"
   ],
   "outputs": [],
   "metadata": {}
  },
  {
   "cell_type": "code",
   "execution_count": 156,
   "source": [
    "df_categorical = X_train.select_dtypes(include='object')"
   ],
   "outputs": [],
   "metadata": {}
  },
  {
   "cell_type": "code",
   "execution_count": 157,
   "source": [
    "df_numerical_cols = df_numerical.columns.tolist()\n",
    "df_categorical_cols = df_categorical.columns.tolist()"
   ],
   "outputs": [],
   "metadata": {}
  },
  {
   "cell_type": "code",
   "execution_count": 158,
   "source": [
    "df_numerical_cols"
   ],
   "outputs": [
    {
     "output_type": "execute_result",
     "data": {
      "text/plain": [
       "['condition', 'odometer', 'auction_value']"
      ]
     },
     "metadata": {},
     "execution_count": 158
    }
   ],
   "metadata": {}
  },
  {
   "cell_type": "code",
   "execution_count": 159,
   "source": [
    "df_categorical_cols"
   ],
   "outputs": [
    {
     "output_type": "execute_result",
     "data": {
      "text/plain": [
       "['make', 'transmission', 'state']"
      ]
     },
     "metadata": {},
     "execution_count": 159
    }
   ],
   "metadata": {}
  },
  {
   "cell_type": "markdown",
   "source": [
    "## Question 2: Using the numerical variables, create a pipeline that replaces the missing values with the median and then standardizes the values using a standard scaler."
   ],
   "metadata": {}
  },
  {
   "cell_type": "code",
   "execution_count": 160,
   "source": [
    "# insert code here\n",
    "\n",
    "X_train.isna().sum()"
   ],
   "outputs": [
    {
     "output_type": "execute_result",
     "data": {
      "text/plain": [
       "make             729\n",
       "transmission     758\n",
       "state            703\n",
       "condition        686\n",
       "odometer         703\n",
       "auction_value    771\n",
       "dtype: int64"
      ]
     },
     "metadata": {},
     "execution_count": 160
    }
   ],
   "metadata": {
    "scrolled": true
   }
  },
  {
   "cell_type": "code",
   "execution_count": 161,
   "source": [
    "from sklearn.pipeline import Pipeline\n",
    "from sklearn.compose import ColumnTransformer\n",
    "from sklearn.impute import SimpleImputer\n",
    "from sklearn.preprocessing import OneHotEncoder\n",
    "from sklearn.preprocessing import StandardScaler\n",
    "\n",
    "\n",
    "num_pipeline = Pipeline([('impute_missing', SimpleImputer(strategy='median')),\n",
    "                           ('scale', StandardScaler())\n",
    "                        ])"
   ],
   "outputs": [],
   "metadata": {}
  },
  {
   "cell_type": "markdown",
   "source": [
    "## Question 3: Using the categorical variables, create a pipeline that replaces the missing values with the most frequent and then use one-hot encoding to convert the data to numerical arrays.\n",
    "- You should be dropping one category from each variable when using the one-hot encoder.  \n",
    "- To ensure the pipeline doesn't break when it receives new/unexpected categories, you should ignore new categories.\n",
    "- Use a fit transformer on the training dataset to validate all the columns are now numeric and to determine how many columns the transformed data contains."
   ],
   "metadata": {}
  },
  {
   "cell_type": "code",
   "execution_count": 96,
   "source": [
    "# insert code here\n",
    "\n",
    "car_pipeline = Pipeline([('impute_missing_cats', SimpleImputer(strategy='most_frequent')),\n",
    "                          ('create_dummies_cats', OneHotEncoder(handle_unknown='ignore', drop='first'))])\n",
    "\n"
   ],
   "outputs": [],
   "metadata": {}
  },
  {
   "cell_type": "code",
   "execution_count": 162,
   "source": [
    "car_pipeline.fit_transform(X_train[df_categorical_cols])[0,:].todense()"
   ],
   "outputs": [
    {
     "output_type": "execute_result",
     "data": {
      "text/plain": [
       "matrix([[0., 0., 0., 0., 0., 0., 1., 0., 0., 0., 0., 0., 0., 0., 0., 0.,\n",
       "         0., 0., 0., 0., 0., 0., 0., 0., 0., 0., 0., 0., 0., 0., 0., 0.,\n",
       "         0., 0., 0., 0., 0., 0., 0., 0., 1.]])"
      ]
     },
     "metadata": {},
     "execution_count": 162
    }
   ],
   "metadata": {
    "scrolled": true
   }
  },
  {
   "cell_type": "code",
   "execution_count": 163,
   "source": [
    "car_pipeline.fit_transform(X_train[df_categorical_cols])"
   ],
   "outputs": [
    {
     "output_type": "execute_result",
     "data": {
      "text/plain": [
       "<7244x41 sparse matrix of type '<class 'numpy.float64'>'\n",
       "\twith 14213 stored elements in Compressed Sparse Row format>"
      ]
     },
     "metadata": {},
     "execution_count": 163
    }
   ],
   "metadata": {}
  },
  {
   "cell_type": "markdown",
   "source": [
    "## Question 4: Combine the numerical and categorical pipelines into one data processing pipeline.\n",
    "- Use a fit transformers and the training dataset to verify the data has no missing values and the correct number of columns."
   ],
   "metadata": {}
  },
  {
   "cell_type": "code",
   "execution_count": 149,
   "source": [
    "# insert code here\n",
    "\n",
    "processing_pipeline = ColumnTransformer(transformers=[('proc_numeric', num_pipeline, df_numerical_cols),\n",
    "                                                      ('create_dummies', car_pipeline, df_categorical_cols)])\n",
    "modeling_pipeline = Pipeline([('data_processing', processing_pipeline)])\n"
   ],
   "outputs": [],
   "metadata": {
    "scrolled": true
   }
  },
  {
   "cell_type": "code",
   "execution_count": 164,
   "source": [
    "processing_pipeline.fit_transform(X_train).shape"
   ],
   "outputs": [
    {
     "output_type": "execute_result",
     "data": {
      "text/plain": [
       "(7244, 44)"
      ]
     },
     "metadata": {},
     "execution_count": 164
    }
   ],
   "metadata": {}
  },
  {
   "cell_type": "markdown",
   "source": [
    "## Question 5: Add a linear regression model to the pipeline.\n",
    "- Report what the $R^2$ is using the `test` data.  "
   ],
   "metadata": {}
  },
  {
   "cell_type": "code",
   "execution_count": 99,
   "source": [
    "from sklearn.linear_model import LinearRegression\n",
    "\n",
    "modeling_pipeline = Pipeline( [('data_processing', processing_pipeline),('lm', LinearRegression())])\n",
    "modeling_pipeline.fit(X_train, y_train)"
   ],
   "outputs": [
    {
     "output_type": "execute_result",
     "data": {
      "text/plain": [
       "Pipeline(steps=[('data_processing',\n",
       "                 ColumnTransformer(transformers=[('proc_numeric',\n",
       "                                                  Pipeline(steps=[('impute_missing',\n",
       "                                                                   SimpleImputer(strategy='median')),\n",
       "                                                                  ('standardize_num',\n",
       "                                                                   StandardScaler())]),\n",
       "                                                  ['condition', 'odometer',\n",
       "                                                   'auction_value']),\n",
       "                                                 ('create_dummies',\n",
       "                                                  Pipeline(steps=[('impute_missing_cats',\n",
       "                                                                   SimpleImputer(strategy='most_frequent')),\n",
       "                                                                  ('create_dummies_cats',\n",
       "                                                                   OneHotEncoder(drop='first',\n",
       "                                                                                 handle_unknown='ignore'))]),\n",
       "                                                  ['make', 'transmission',\n",
       "                                                   'state'])])),\n",
       "                ('lm', LinearRegression())])"
      ]
     },
     "metadata": {},
     "execution_count": 99
    }
   ],
   "metadata": {}
  },
  {
   "cell_type": "code",
   "execution_count": 100,
   "source": [
    "sellprice_predictions = modeling_pipeline.predict(X_test)"
   ],
   "outputs": [],
   "metadata": {}
  },
  {
   "cell_type": "code",
   "execution_count": 101,
   "source": [
    "from sklearn.metrics import mean_squared_error\n",
    "mse = mean_squared_error(y_test, sellprice_predictions)\n",
    "print(mse)"
   ],
   "outputs": [
    {
     "output_type": "stream",
     "name": "stdout",
     "text": [
      "6998122.044323062\n"
     ]
    }
   ],
   "metadata": {}
  },
  {
   "cell_type": "code",
   "execution_count": 102,
   "source": [
    "rmse = np.sqrt(mse)\n",
    "rmse"
   ],
   "outputs": [
    {
     "output_type": "execute_result",
     "data": {
      "text/plain": [
       "2645.396386994407"
      ]
     },
     "metadata": {},
     "execution_count": 102
    }
   ],
   "metadata": {}
  },
  {
   "cell_type": "code",
   "execution_count": 103,
   "source": [
    "from sklearn.metrics import r2_score\n",
    "r2 = r2_score(y_test, sellprice_predictions)\n",
    "r2"
   ],
   "outputs": [
    {
     "output_type": "execute_result",
     "data": {
      "text/plain": [
       "0.8838274422416588"
      ]
     },
     "metadata": {},
     "execution_count": 103
    }
   ],
   "metadata": {}
  },
  {
   "cell_type": "markdown",
   "source": [
    "## Question 6: Create a plot(s) of the residuals. Do you have any concerns about patterns in the residuals that the model is neglecting to pick-up?\n",
    "- Include a sentence or two on what you observe."
   ],
   "metadata": {}
  },
  {
   "cell_type": "code",
   "execution_count": 106,
   "source": [
    "# insert code here\n",
    "import matplotlib.pyplot as plt\n",
    "\n",
    "plt.plot(y_test, sellprice_predictions, 'ro')\n",
    "plt.xlabel('Actual')\n",
    "plt.ylabel('Predicted')\n",
    "plt.show()"
   ],
   "outputs": [
    {
     "output_type": "display_data",
     "data": {
      "image/png": "[encoded data removed]",
      "text/plain": [
       "<Figure size 432x288 with 1 Axes>"
      ]
     },
     "metadata": {
      "needs_background": "light"
     }
    }
   ],
   "metadata": {
    "scrolled": true
   }
  },
  {
   "cell_type": "code",
   "execution_count": 150,
   "source": [
    "diff= y_test- sellprice_predictions\n",
    "plt.plot(y_test,diff,'ro')\n",
    "plt.title('Residuals')\n",
    "plt.xlabel('Actual')\n",
    "plt.ylabel('Difference')\n",
    "plt.show()"
   ],
   "outputs": [
    {
     "output_type": "display_data",
     "data": {
      "image/png": "[encoded data removed]",
      "text/plain": [
       "<Figure size 432x288 with 1 Axes>"
      ]
     },
     "metadata": {
      "needs_background": "light"
     }
    }
   ],
   "metadata": {}
  },
  {
   "cell_type": "markdown",
   "source": [
    "Plot shows there are groups of values for which actual values are between 20000-45000 but the model predicted them as 15000. Also we can't ignore some of the overpredicted values."
   ],
   "metadata": {}
  },
  {
   "cell_type": "markdown",
   "source": [
    "## Question 7: Modify the pipeline to use a ridge regression model with an alpha value of 100. How does this change the $R^2$?"
   ],
   "metadata": {}
  },
  {
   "cell_type": "code",
   "execution_count": 141,
   "source": [
    "from collections import defaultdict\n",
    "from sklearn.linear_model import Ridge\n",
    "\n",
    "\n",
    "modeling_pipeline_ridge = Pipeline([('data_processing', processing_pipeline), ('ridge', Ridge(alpha=100))])\n",
    "modeling_pipeline_ridge.fit(X_train, y_train)\n",
    "ridge_training_score = modeling_pipeline_ridge.score(X_train, y_train)\n",
    "ridge_test_score = modeling_pipeline_ridge.score(X_test, y_test)"
   ],
   "outputs": [],
   "metadata": {}
  },
  {
   "cell_type": "code",
   "execution_count": 148,
   "source": [
    "ridge_test_score"
   ],
   "outputs": [
    {
     "output_type": "execute_result",
     "data": {
      "text/plain": [
       "0.8824295262289528"
      ]
     },
     "metadata": {},
     "execution_count": 148
    }
   ],
   "metadata": {}
  },
  {
   "cell_type": "markdown",
   "source": [
    "There is very little change in R2 value after ridge regression that is 0.0014."
   ],
   "metadata": {}
  },
  {
   "cell_type": "code",
   "execution_count": null,
   "source": [],
   "outputs": [],
   "metadata": {}
  },
  {
   "cell_type": "code",
   "execution_count": null,
   "source": [],
   "outputs": [],
   "metadata": {}
  },
  {
   "cell_type": "code",
   "execution_count": null,
   "source": [],
   "outputs": [],
   "metadata": {}
  },
  {
   "cell_type": "code",
   "execution_count": null,
   "source": [],
   "outputs": [],
   "metadata": {}
  }
 ],
 "metadata": {
  "kernelspec": {
   "display_name": "Python 3 (ipykernel)",
   "language": "python",
   "name": "python3"
  },
  "language_info": {
   "codemirror_mode": {
    "name": "ipython",
    "version": 3
   },
   "file_extension": ".py",
   "mimetype": "text/x-python",
   "name": "python",
   "nbconvert_exporter": "python",
   "pygments_lexer": "ipython3",
   "version": "3.8.10"
  }
 },
 "nbformat": 4,
 "nbformat_minor": 4
}